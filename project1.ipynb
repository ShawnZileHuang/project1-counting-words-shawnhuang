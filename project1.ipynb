{
 "cells": [
  {
   "cell_type": "markdown",
   "metadata": {},
   "source": [
    "# Project 1: Counting words in college subreddits"
   ]
  },
  {
   "cell_type": "markdown",
   "metadata": {},
   "source": [
    "Due 9/16. Reminder that you are allowed to use any amount of AI assistance or outside resources with citation"
   ]
  },
  {
   "cell_type": "markdown",
   "metadata": {},
   "source": [
    "## Part 1: word counting and bag of words"
   ]
  },
  {
   "cell_type": "code",
   "execution_count": 1,
   "metadata": {},
   "outputs": [
    {
     "name": "stdout",
     "output_type": "stream",
     "text": [
      "Collecting spacy\n",
      "  Downloading spacy-3.7.6-cp39-cp39-macosx_10_9_x86_64.whl.metadata (27 kB)\n",
      "Collecting spacy-legacy<3.1.0,>=3.0.11 (from spacy)\n",
      "  Downloading spacy_legacy-3.0.12-py2.py3-none-any.whl.metadata (2.8 kB)\n",
      "Collecting spacy-loggers<2.0.0,>=1.0.0 (from spacy)\n",
      "  Downloading spacy_loggers-1.0.5-py3-none-any.whl.metadata (23 kB)\n",
      "Collecting murmurhash<1.1.0,>=0.28.0 (from spacy)\n",
      "  Downloading murmurhash-1.0.10-cp39-cp39-macosx_10_9_x86_64.whl.metadata (2.0 kB)\n",
      "Collecting cymem<2.1.0,>=2.0.2 (from spacy)\n",
      "  Downloading cymem-2.0.8-cp39-cp39-macosx_10_9_x86_64.whl.metadata (8.4 kB)\n",
      "Collecting preshed<3.1.0,>=3.0.2 (from spacy)\n",
      "  Downloading preshed-3.0.9-cp39-cp39-macosx_10_9_x86_64.whl.metadata (2.2 kB)\n",
      "Collecting thinc<8.3.0,>=8.2.2 (from spacy)\n",
      "  Downloading thinc-8.2.5-cp39-cp39-macosx_10_9_x86_64.whl.metadata (15 kB)\n",
      "Collecting wasabi<1.2.0,>=0.9.1 (from spacy)\n",
      "  Downloading wasabi-1.1.3-py3-none-any.whl.metadata (28 kB)\n",
      "Collecting srsly<3.0.0,>=2.4.3 (from spacy)\n",
      "  Downloading srsly-2.4.8-cp39-cp39-macosx_10_9_x86_64.whl.metadata (20 kB)\n",
      "Collecting catalogue<2.1.0,>=2.0.6 (from spacy)\n",
      "  Downloading catalogue-2.0.10-py3-none-any.whl.metadata (14 kB)\n",
      "Collecting weasel<0.5.0,>=0.1.0 (from spacy)\n",
      "  Downloading weasel-0.4.1-py3-none-any.whl.metadata (4.6 kB)\n",
      "Collecting typer<1.0.0,>=0.3.0 (from spacy)\n",
      "  Downloading typer-0.12.5-py3-none-any.whl.metadata (15 kB)\n",
      "Requirement already satisfied: tqdm<5.0.0,>=4.38.0 in /Users/huangshawn/anaconda3/envs/“is310”/lib/python3.9/site-packages (from spacy) (4.66.5)\n",
      "Collecting requests<3.0.0,>=2.13.0 (from spacy)\n",
      "  Downloading requests-2.32.3-py3-none-any.whl.metadata (4.6 kB)\n",
      "Collecting pydantic!=1.8,!=1.8.1,<3.0.0,>=1.7.4 (from spacy)\n",
      "  Downloading pydantic-2.9.1-py3-none-any.whl.metadata (146 kB)\n",
      "Collecting jinja2 (from spacy)\n",
      "  Using cached jinja2-3.1.4-py3-none-any.whl.metadata (2.6 kB)\n",
      "Requirement already satisfied: setuptools in /Users/huangshawn/anaconda3/envs/“is310”/lib/python3.9/site-packages (from spacy) (72.1.0)\n",
      "Requirement already satisfied: packaging>=20.0 in /Users/huangshawn/anaconda3/envs/“is310”/lib/python3.9/site-packages (from spacy) (24.1)\n",
      "Collecting langcodes<4.0.0,>=3.2.0 (from spacy)\n",
      "  Downloading langcodes-3.4.0-py3-none-any.whl.metadata (29 kB)\n",
      "Requirement already satisfied: numpy>=1.19.0 in /Users/huangshawn/anaconda3/envs/“is310”/lib/python3.9/site-packages (from spacy) (1.26.4)\n",
      "Collecting language-data>=1.2 (from langcodes<4.0.0,>=3.2.0->spacy)\n",
      "  Downloading language_data-1.2.0-py3-none-any.whl.metadata (4.3 kB)\n",
      "Collecting annotated-types>=0.6.0 (from pydantic!=1.8,!=1.8.1,<3.0.0,>=1.7.4->spacy)\n",
      "  Downloading annotated_types-0.7.0-py3-none-any.whl.metadata (15 kB)\n",
      "Collecting pydantic-core==2.23.3 (from pydantic!=1.8,!=1.8.1,<3.0.0,>=1.7.4->spacy)\n",
      "  Downloading pydantic_core-2.23.3-cp39-cp39-macosx_10_12_x86_64.whl.metadata (6.6 kB)\n",
      "Requirement already satisfied: typing-extensions>=4.6.1 in /Users/huangshawn/anaconda3/envs/“is310”/lib/python3.9/site-packages (from pydantic!=1.8,!=1.8.1,<3.0.0,>=1.7.4->spacy) (4.12.2)\n",
      "Collecting charset-normalizer<4,>=2 (from requests<3.0.0,>=2.13.0->spacy)\n",
      "  Downloading charset_normalizer-3.3.2-cp39-cp39-macosx_10_9_x86_64.whl.metadata (33 kB)\n",
      "Collecting idna<4,>=2.5 (from requests<3.0.0,>=2.13.0->spacy)\n",
      "  Downloading idna-3.8-py3-none-any.whl.metadata (9.9 kB)\n",
      "Collecting urllib3<3,>=1.21.1 (from requests<3.0.0,>=2.13.0->spacy)\n",
      "  Downloading urllib3-2.2.2-py3-none-any.whl.metadata (6.4 kB)\n",
      "Collecting certifi>=2017.4.17 (from requests<3.0.0,>=2.13.0->spacy)\n",
      "  Downloading certifi-2024.8.30-py3-none-any.whl.metadata (2.2 kB)\n",
      "Collecting blis<0.8.0,>=0.7.8 (from thinc<8.3.0,>=8.2.2->spacy)\n",
      "  Downloading blis-0.7.11-cp39-cp39-macosx_10_9_x86_64.whl.metadata (7.4 kB)\n",
      "Collecting confection<1.0.0,>=0.0.1 (from thinc<8.3.0,>=8.2.2->spacy)\n",
      "  Downloading confection-0.1.5-py3-none-any.whl.metadata (19 kB)\n",
      "Requirement already satisfied: click>=8.0.0 in /Users/huangshawn/anaconda3/envs/“is310”/lib/python3.9/site-packages (from typer<1.0.0,>=0.3.0->spacy) (8.1.7)\n",
      "Collecting shellingham>=1.3.0 (from typer<1.0.0,>=0.3.0->spacy)\n",
      "  Downloading shellingham-1.5.4-py2.py3-none-any.whl.metadata (3.5 kB)\n",
      "Collecting rich>=10.11.0 (from typer<1.0.0,>=0.3.0->spacy)\n",
      "  Downloading rich-13.8.1-py3-none-any.whl.metadata (18 kB)\n",
      "Collecting cloudpathlib<1.0.0,>=0.7.0 (from weasel<0.5.0,>=0.1.0->spacy)\n",
      "  Downloading cloudpathlib-0.19.0-py3-none-any.whl.metadata (14 kB)\n",
      "Collecting smart-open<8.0.0,>=5.2.1 (from weasel<0.5.0,>=0.1.0->spacy)\n",
      "  Downloading smart_open-7.0.4-py3-none-any.whl.metadata (23 kB)\n",
      "Collecting MarkupSafe>=2.0 (from jinja2->spacy)\n",
      "  Downloading MarkupSafe-2.1.5-cp39-cp39-macosx_10_9_x86_64.whl.metadata (3.0 kB)\n",
      "Collecting marisa-trie>=0.7.7 (from language-data>=1.2->langcodes<4.0.0,>=3.2.0->spacy)\n",
      "  Downloading marisa_trie-1.2.0-cp39-cp39-macosx_10_9_x86_64.whl.metadata (8.7 kB)\n",
      "Collecting markdown-it-py>=2.2.0 (from rich>=10.11.0->typer<1.0.0,>=0.3.0->spacy)\n",
      "  Downloading markdown_it_py-3.0.0-py3-none-any.whl.metadata (6.9 kB)\n",
      "Requirement already satisfied: pygments<3.0.0,>=2.13.0 in /Users/huangshawn/anaconda3/envs/“is310”/lib/python3.9/site-packages (from rich>=10.11.0->typer<1.0.0,>=0.3.0->spacy) (2.18.0)\n",
      "Collecting wrapt (from smart-open<8.0.0,>=5.2.1->weasel<0.5.0,>=0.1.0->spacy)\n",
      "  Downloading wrapt-1.16.0-cp39-cp39-macosx_10_9_x86_64.whl.metadata (6.6 kB)\n",
      "Collecting mdurl~=0.1 (from markdown-it-py>=2.2.0->rich>=10.11.0->typer<1.0.0,>=0.3.0->spacy)\n",
      "  Downloading mdurl-0.1.2-py3-none-any.whl.metadata (1.6 kB)\n",
      "Downloading spacy-3.7.6-cp39-cp39-macosx_10_9_x86_64.whl (6.5 MB)\n",
      "\u001b[2K   \u001b[90m━━━━━━━━━━━━━━━━━━━━━━━━━━━━━━━━━━━━━━━━\u001b[0m \u001b[32m6.5/6.5 MB\u001b[0m \u001b[31m27.8 MB/s\u001b[0m eta \u001b[36m0:00:00\u001b[0ma \u001b[36m0:00:01\u001b[0m\n",
      "\u001b[?25hDownloading catalogue-2.0.10-py3-none-any.whl (17 kB)\n",
      "Downloading cymem-2.0.8-cp39-cp39-macosx_10_9_x86_64.whl (42 kB)\n",
      "Downloading langcodes-3.4.0-py3-none-any.whl (182 kB)\n",
      "Downloading murmurhash-1.0.10-cp39-cp39-macosx_10_9_x86_64.whl (26 kB)\n",
      "Downloading preshed-3.0.9-cp39-cp39-macosx_10_9_x86_64.whl (133 kB)\n",
      "Downloading pydantic-2.9.1-py3-none-any.whl (434 kB)\n",
      "Downloading pydantic_core-2.23.3-cp39-cp39-macosx_10_12_x86_64.whl (1.8 MB)\n",
      "\u001b[2K   \u001b[90m━━━━━━━━━━━━━━━━━━━━━━━━━━━━━━━━━━━━━━━━\u001b[0m \u001b[32m1.8/1.8 MB\u001b[0m \u001b[31m23.7 MB/s\u001b[0m eta \u001b[36m0:00:00\u001b[0m\n",
      "\u001b[?25hDownloading requests-2.32.3-py3-none-any.whl (64 kB)\n",
      "Downloading spacy_legacy-3.0.12-py2.py3-none-any.whl (29 kB)\n",
      "Downloading spacy_loggers-1.0.5-py3-none-any.whl (22 kB)\n",
      "Downloading srsly-2.4.8-cp39-cp39-macosx_10_9_x86_64.whl (493 kB)\n",
      "Downloading thinc-8.2.5-cp39-cp39-macosx_10_9_x86_64.whl (847 kB)\n",
      "\u001b[2K   \u001b[90m━━━━━━━━━━━━━━━━━━━━━━━━━━━━━━━━━━━━━━━━\u001b[0m \u001b[32m847.9/847.9 kB\u001b[0m \u001b[31m26.2 MB/s\u001b[0m eta \u001b[36m0:00:00\u001b[0m\n",
      "\u001b[?25hDownloading typer-0.12.5-py3-none-any.whl (47 kB)\n",
      "Downloading wasabi-1.1.3-py3-none-any.whl (27 kB)\n",
      "Downloading weasel-0.4.1-py3-none-any.whl (50 kB)\n",
      "Using cached jinja2-3.1.4-py3-none-any.whl (133 kB)\n",
      "Downloading annotated_types-0.7.0-py3-none-any.whl (13 kB)\n",
      "Downloading blis-0.7.11-cp39-cp39-macosx_10_9_x86_64.whl (6.1 MB)\n",
      "\u001b[2K   \u001b[90m━━━━━━━━━━━━━━━━━━━━━━━━━━━━━━━━━━━━━━━━\u001b[0m \u001b[32m6.1/6.1 MB\u001b[0m \u001b[31m22.5 MB/s\u001b[0m eta \u001b[36m0:00:00\u001b[0ma \u001b[36m0:00:01\u001b[0m\n",
      "\u001b[?25hDownloading certifi-2024.8.30-py3-none-any.whl (167 kB)\n",
      "Downloading charset_normalizer-3.3.2-cp39-cp39-macosx_10_9_x86_64.whl (122 kB)\n",
      "Downloading cloudpathlib-0.19.0-py3-none-any.whl (49 kB)\n",
      "Downloading confection-0.1.5-py3-none-any.whl (35 kB)\n",
      "Downloading idna-3.8-py3-none-any.whl (66 kB)\n",
      "Downloading language_data-1.2.0-py3-none-any.whl (5.4 MB)\n",
      "\u001b[2K   \u001b[90m━━━━━━━━━━━━━━━━━━━━━━━━━━━━━━━━━━━━━━━━\u001b[0m \u001b[32m5.4/5.4 MB\u001b[0m \u001b[31m15.2 MB/s\u001b[0m eta \u001b[36m0:00:00\u001b[0ma \u001b[36m0:00:01\u001b[0m\n",
      "\u001b[?25hDownloading MarkupSafe-2.1.5-cp39-cp39-macosx_10_9_x86_64.whl (14 kB)\n",
      "Downloading rich-13.8.1-py3-none-any.whl (241 kB)\n",
      "Downloading shellingham-1.5.4-py2.py3-none-any.whl (9.8 kB)\n",
      "Downloading smart_open-7.0.4-py3-none-any.whl (61 kB)\n",
      "Downloading urllib3-2.2.2-py3-none-any.whl (121 kB)\n",
      "Downloading marisa_trie-1.2.0-cp39-cp39-macosx_10_9_x86_64.whl (192 kB)\n",
      "Downloading markdown_it_py-3.0.0-py3-none-any.whl (87 kB)\n",
      "Downloading wrapt-1.16.0-cp39-cp39-macosx_10_9_x86_64.whl (37 kB)\n",
      "Downloading mdurl-0.1.2-py3-none-any.whl (10.0 kB)\n",
      "Installing collected packages: cymem, wrapt, wasabi, urllib3, spacy-loggers, spacy-legacy, shellingham, pydantic-core, murmurhash, mdurl, MarkupSafe, marisa-trie, idna, cloudpathlib, charset-normalizer, certifi, catalogue, blis, annotated-types, srsly, smart-open, requests, pydantic, preshed, markdown-it-py, language-data, jinja2, rich, langcodes, confection, typer, thinc, weasel, spacy\n",
      "Successfully installed MarkupSafe-2.1.5 annotated-types-0.7.0 blis-0.7.11 catalogue-2.0.10 certifi-2024.8.30 charset-normalizer-3.3.2 cloudpathlib-0.19.0 confection-0.1.5 cymem-2.0.8 idna-3.8 jinja2-3.1.4 langcodes-3.4.0 language-data-1.2.0 marisa-trie-1.2.0 markdown-it-py-3.0.0 mdurl-0.1.2 murmurhash-1.0.10 preshed-3.0.9 pydantic-2.9.1 pydantic-core-2.23.3 requests-2.32.3 rich-13.8.1 shellingham-1.5.4 smart-open-7.0.4 spacy-3.7.6 spacy-legacy-3.0.12 spacy-loggers-1.0.5 srsly-2.4.8 thinc-8.2.5 typer-0.12.5 urllib3-2.2.2 wasabi-1.1.3 weasel-0.4.1 wrapt-1.16.0\n"
     ]
    }
   ],
   "source": [
    "#install spacy in the current conda environment\n",
    "!pip install spacy\n"
   ]
  },
  {
   "cell_type": "code",
   "execution_count": 2,
   "metadata": {},
   "outputs": [
    {
     "name": "stdout",
     "output_type": "stream",
     "text": [
      "Collecting en-core-web-sm==3.7.1\n",
      "  Downloading https://github.com/explosion/spacy-models/releases/download/en_core_web_sm-3.7.1/en_core_web_sm-3.7.1-py3-none-any.whl (12.8 MB)\n",
      "\u001b[2K     \u001b[90m━━━━━━━━━━━━━━━━━━━━━━━━━━━━━━━━━━━━━━━━\u001b[0m \u001b[32m12.8/12.8 MB\u001b[0m \u001b[31m43.0 MB/s\u001b[0m eta \u001b[36m0:00:00\u001b[0m \u001b[36m0:00:01\u001b[0m\n",
      "\u001b[?25hRequirement already satisfied: spacy<3.8.0,>=3.7.2 in /Users/huangshawn/anaconda3/envs/“is310”/lib/python3.9/site-packages (from en-core-web-sm==3.7.1) (3.7.6)\n",
      "Requirement already satisfied: spacy-legacy<3.1.0,>=3.0.11 in /Users/huangshawn/anaconda3/envs/“is310”/lib/python3.9/site-packages (from spacy<3.8.0,>=3.7.2->en-core-web-sm==3.7.1) (3.0.12)\n",
      "Requirement already satisfied: spacy-loggers<2.0.0,>=1.0.0 in /Users/huangshawn/anaconda3/envs/“is310”/lib/python3.9/site-packages (from spacy<3.8.0,>=3.7.2->en-core-web-sm==3.7.1) (1.0.5)\n",
      "Requirement already satisfied: murmurhash<1.1.0,>=0.28.0 in /Users/huangshawn/anaconda3/envs/“is310”/lib/python3.9/site-packages (from spacy<3.8.0,>=3.7.2->en-core-web-sm==3.7.1) (1.0.10)\n",
      "Requirement already satisfied: cymem<2.1.0,>=2.0.2 in /Users/huangshawn/anaconda3/envs/“is310”/lib/python3.9/site-packages (from spacy<3.8.0,>=3.7.2->en-core-web-sm==3.7.1) (2.0.8)\n",
      "Requirement already satisfied: preshed<3.1.0,>=3.0.2 in /Users/huangshawn/anaconda3/envs/“is310”/lib/python3.9/site-packages (from spacy<3.8.0,>=3.7.2->en-core-web-sm==3.7.1) (3.0.9)\n",
      "Requirement already satisfied: thinc<8.3.0,>=8.2.2 in /Users/huangshawn/anaconda3/envs/“is310”/lib/python3.9/site-packages (from spacy<3.8.0,>=3.7.2->en-core-web-sm==3.7.1) (8.2.5)\n",
      "Requirement already satisfied: wasabi<1.2.0,>=0.9.1 in /Users/huangshawn/anaconda3/envs/“is310”/lib/python3.9/site-packages (from spacy<3.8.0,>=3.7.2->en-core-web-sm==3.7.1) (1.1.3)\n",
      "Requirement already satisfied: srsly<3.0.0,>=2.4.3 in /Users/huangshawn/anaconda3/envs/“is310”/lib/python3.9/site-packages (from spacy<3.8.0,>=3.7.2->en-core-web-sm==3.7.1) (2.4.8)\n",
      "Requirement already satisfied: catalogue<2.1.0,>=2.0.6 in /Users/huangshawn/anaconda3/envs/“is310”/lib/python3.9/site-packages (from spacy<3.8.0,>=3.7.2->en-core-web-sm==3.7.1) (2.0.10)\n",
      "Requirement already satisfied: weasel<0.5.0,>=0.1.0 in /Users/huangshawn/anaconda3/envs/“is310”/lib/python3.9/site-packages (from spacy<3.8.0,>=3.7.2->en-core-web-sm==3.7.1) (0.4.1)\n",
      "Requirement already satisfied: typer<1.0.0,>=0.3.0 in /Users/huangshawn/anaconda3/envs/“is310”/lib/python3.9/site-packages (from spacy<3.8.0,>=3.7.2->en-core-web-sm==3.7.1) (0.12.5)\n",
      "Requirement already satisfied: tqdm<5.0.0,>=4.38.0 in /Users/huangshawn/anaconda3/envs/“is310”/lib/python3.9/site-packages (from spacy<3.8.0,>=3.7.2->en-core-web-sm==3.7.1) (4.66.5)\n",
      "Requirement already satisfied: requests<3.0.0,>=2.13.0 in /Users/huangshawn/anaconda3/envs/“is310”/lib/python3.9/site-packages (from spacy<3.8.0,>=3.7.2->en-core-web-sm==3.7.1) (2.32.3)\n",
      "Requirement already satisfied: pydantic!=1.8,!=1.8.1,<3.0.0,>=1.7.4 in /Users/huangshawn/anaconda3/envs/“is310”/lib/python3.9/site-packages (from spacy<3.8.0,>=3.7.2->en-core-web-sm==3.7.1) (2.9.1)\n",
      "Requirement already satisfied: jinja2 in /Users/huangshawn/anaconda3/envs/“is310”/lib/python3.9/site-packages (from spacy<3.8.0,>=3.7.2->en-core-web-sm==3.7.1) (3.1.4)\n",
      "Requirement already satisfied: setuptools in /Users/huangshawn/anaconda3/envs/“is310”/lib/python3.9/site-packages (from spacy<3.8.0,>=3.7.2->en-core-web-sm==3.7.1) (72.1.0)\n",
      "Requirement already satisfied: packaging>=20.0 in /Users/huangshawn/anaconda3/envs/“is310”/lib/python3.9/site-packages (from spacy<3.8.0,>=3.7.2->en-core-web-sm==3.7.1) (24.1)\n",
      "Requirement already satisfied: langcodes<4.0.0,>=3.2.0 in /Users/huangshawn/anaconda3/envs/“is310”/lib/python3.9/site-packages (from spacy<3.8.0,>=3.7.2->en-core-web-sm==3.7.1) (3.4.0)\n",
      "Requirement already satisfied: numpy>=1.19.0 in /Users/huangshawn/anaconda3/envs/“is310”/lib/python3.9/site-packages (from spacy<3.8.0,>=3.7.2->en-core-web-sm==3.7.1) (1.26.4)\n",
      "Requirement already satisfied: language-data>=1.2 in /Users/huangshawn/anaconda3/envs/“is310”/lib/python3.9/site-packages (from langcodes<4.0.0,>=3.2.0->spacy<3.8.0,>=3.7.2->en-core-web-sm==3.7.1) (1.2.0)\n",
      "Requirement already satisfied: annotated-types>=0.6.0 in /Users/huangshawn/anaconda3/envs/“is310”/lib/python3.9/site-packages (from pydantic!=1.8,!=1.8.1,<3.0.0,>=1.7.4->spacy<3.8.0,>=3.7.2->en-core-web-sm==3.7.1) (0.7.0)\n",
      "Requirement already satisfied: pydantic-core==2.23.3 in /Users/huangshawn/anaconda3/envs/“is310”/lib/python3.9/site-packages (from pydantic!=1.8,!=1.8.1,<3.0.0,>=1.7.4->spacy<3.8.0,>=3.7.2->en-core-web-sm==3.7.1) (2.23.3)\n",
      "Requirement already satisfied: typing-extensions>=4.6.1 in /Users/huangshawn/anaconda3/envs/“is310”/lib/python3.9/site-packages (from pydantic!=1.8,!=1.8.1,<3.0.0,>=1.7.4->spacy<3.8.0,>=3.7.2->en-core-web-sm==3.7.1) (4.12.2)\n",
      "Requirement already satisfied: charset-normalizer<4,>=2 in /Users/huangshawn/anaconda3/envs/“is310”/lib/python3.9/site-packages (from requests<3.0.0,>=2.13.0->spacy<3.8.0,>=3.7.2->en-core-web-sm==3.7.1) (3.3.2)\n",
      "Requirement already satisfied: idna<4,>=2.5 in /Users/huangshawn/anaconda3/envs/“is310”/lib/python3.9/site-packages (from requests<3.0.0,>=2.13.0->spacy<3.8.0,>=3.7.2->en-core-web-sm==3.7.1) (3.8)\n",
      "Requirement already satisfied: urllib3<3,>=1.21.1 in /Users/huangshawn/anaconda3/envs/“is310”/lib/python3.9/site-packages (from requests<3.0.0,>=2.13.0->spacy<3.8.0,>=3.7.2->en-core-web-sm==3.7.1) (2.2.2)\n",
      "Requirement already satisfied: certifi>=2017.4.17 in /Users/huangshawn/anaconda3/envs/“is310”/lib/python3.9/site-packages (from requests<3.0.0,>=2.13.0->spacy<3.8.0,>=3.7.2->en-core-web-sm==3.7.1) (2024.8.30)\n",
      "Requirement already satisfied: blis<0.8.0,>=0.7.8 in /Users/huangshawn/anaconda3/envs/“is310”/lib/python3.9/site-packages (from thinc<8.3.0,>=8.2.2->spacy<3.8.0,>=3.7.2->en-core-web-sm==3.7.1) (0.7.11)\n",
      "Requirement already satisfied: confection<1.0.0,>=0.0.1 in /Users/huangshawn/anaconda3/envs/“is310”/lib/python3.9/site-packages (from thinc<8.3.0,>=8.2.2->spacy<3.8.0,>=3.7.2->en-core-web-sm==3.7.1) (0.1.5)\n",
      "Requirement already satisfied: click>=8.0.0 in /Users/huangshawn/anaconda3/envs/“is310”/lib/python3.9/site-packages (from typer<1.0.0,>=0.3.0->spacy<3.8.0,>=3.7.2->en-core-web-sm==3.7.1) (8.1.7)\n",
      "Requirement already satisfied: shellingham>=1.3.0 in /Users/huangshawn/anaconda3/envs/“is310”/lib/python3.9/site-packages (from typer<1.0.0,>=0.3.0->spacy<3.8.0,>=3.7.2->en-core-web-sm==3.7.1) (1.5.4)\n",
      "Requirement already satisfied: rich>=10.11.0 in /Users/huangshawn/anaconda3/envs/“is310”/lib/python3.9/site-packages (from typer<1.0.0,>=0.3.0->spacy<3.8.0,>=3.7.2->en-core-web-sm==3.7.1) (13.8.1)\n",
      "Requirement already satisfied: cloudpathlib<1.0.0,>=0.7.0 in /Users/huangshawn/anaconda3/envs/“is310”/lib/python3.9/site-packages (from weasel<0.5.0,>=0.1.0->spacy<3.8.0,>=3.7.2->en-core-web-sm==3.7.1) (0.19.0)\n",
      "Requirement already satisfied: smart-open<8.0.0,>=5.2.1 in /Users/huangshawn/anaconda3/envs/“is310”/lib/python3.9/site-packages (from weasel<0.5.0,>=0.1.0->spacy<3.8.0,>=3.7.2->en-core-web-sm==3.7.1) (7.0.4)\n",
      "Requirement already satisfied: MarkupSafe>=2.0 in /Users/huangshawn/anaconda3/envs/“is310”/lib/python3.9/site-packages (from jinja2->spacy<3.8.0,>=3.7.2->en-core-web-sm==3.7.1) (2.1.5)\n",
      "Requirement already satisfied: marisa-trie>=0.7.7 in /Users/huangshawn/anaconda3/envs/“is310”/lib/python3.9/site-packages (from language-data>=1.2->langcodes<4.0.0,>=3.2.0->spacy<3.8.0,>=3.7.2->en-core-web-sm==3.7.1) (1.2.0)\n",
      "Requirement already satisfied: markdown-it-py>=2.2.0 in /Users/huangshawn/anaconda3/envs/“is310”/lib/python3.9/site-packages (from rich>=10.11.0->typer<1.0.0,>=0.3.0->spacy<3.8.0,>=3.7.2->en-core-web-sm==3.7.1) (3.0.0)\n",
      "Requirement already satisfied: pygments<3.0.0,>=2.13.0 in /Users/huangshawn/anaconda3/envs/“is310”/lib/python3.9/site-packages (from rich>=10.11.0->typer<1.0.0,>=0.3.0->spacy<3.8.0,>=3.7.2->en-core-web-sm==3.7.1) (2.18.0)\n",
      "Requirement already satisfied: wrapt in /Users/huangshawn/anaconda3/envs/“is310”/lib/python3.9/site-packages (from smart-open<8.0.0,>=5.2.1->weasel<0.5.0,>=0.1.0->spacy<3.8.0,>=3.7.2->en-core-web-sm==3.7.1) (1.16.0)\n",
      "Requirement already satisfied: mdurl~=0.1 in /Users/huangshawn/anaconda3/envs/“is310”/lib/python3.9/site-packages (from markdown-it-py>=2.2.0->rich>=10.11.0->typer<1.0.0,>=0.3.0->spacy<3.8.0,>=3.7.2->en-core-web-sm==3.7.1) (0.1.2)\n",
      "Installing collected packages: en-core-web-sm\n",
      "Successfully installed en-core-web-sm-3.7.1\n",
      "\u001b[38;5;2m✔ Download and installation successful\u001b[0m\n",
      "You can now load the package via spacy.load('en_core_web_sm')\n"
     ]
    }
   ],
   "source": [
    "#download a small language model to help with cleaning tasks\n",
    "!python -m spacy download en_core_web_sm\n",
    "\n"
   ]
  },
  {
   "cell_type": "code",
   "execution_count": 1,
   "metadata": {},
   "outputs": [
    {
     "name": "stderr",
     "output_type": "stream",
     "text": [
      "Matplotlib is building the font cache; this may take a moment.\n"
     ]
    }
   ],
   "source": [
    "#import required libraries\n",
    "import pandas as pd\n",
    "from sklearn.feature_extraction.text import CountVectorizer\n",
    "import spacy\n",
    "language_model = spacy.load(\"en_core_web_sm\")\n",
    "import matplotlib.pyplot as plt\n",
    "\n",
    "import numpy as np"
   ]
  },
  {
   "cell_type": "markdown",
   "metadata": {},
   "source": [
    "### Problem 1 and example: common words in the Michigan subreddit"
   ]
  },
  {
   "cell_type": "code",
   "execution_count": 2,
   "metadata": {},
   "outputs": [],
   "source": [
    "#read the data from a csv file in the folder\n",
    "mich=pd.read_csv(\"umich.csv\")"
   ]
  },
  {
   "cell_type": "code",
   "execution_count": 3,
   "metadata": {},
   "outputs": [
    {
     "data": {
      "text/html": [
       "<div>\n",
       "<style scoped>\n",
       "    .dataframe tbody tr th:only-of-type {\n",
       "        vertical-align: middle;\n",
       "    }\n",
       "\n",
       "    .dataframe tbody tr th {\n",
       "        vertical-align: top;\n",
       "    }\n",
       "\n",
       "    .dataframe thead th {\n",
       "        text-align: right;\n",
       "    }\n",
       "</style>\n",
       "<table border=\"1\" class=\"dataframe\">\n",
       "  <thead>\n",
       "    <tr style=\"text-align: right;\">\n",
       "      <th></th>\n",
       "      <th>Unnamed: 0</th>\n",
       "      <th>date</th>\n",
       "      <th>post_votes</th>\n",
       "      <th>text</th>\n",
       "      <th>user</th>\n",
       "      <th>com_votes</th>\n",
       "    </tr>\n",
       "  </thead>\n",
       "  <tbody>\n",
       "    <tr>\n",
       "      <th>0</th>\n",
       "      <td>0</td>\n",
       "      <td>2024-09-04 15:33:20</td>\n",
       "      <td>2</td>\n",
       "      <td>Zingermans has a nice reuben, pretty pricey bu...</td>\n",
       "      <td>Suspicious-Bad703</td>\n",
       "      <td>2</td>\n",
       "    </tr>\n",
       "    <tr>\n",
       "      <th>1</th>\n",
       "      <td>1</td>\n",
       "      <td>2024-09-04 15:33:20</td>\n",
       "      <td>2</td>\n",
       "      <td>I really love Tomokun!</td>\n",
       "      <td>webstbre000</td>\n",
       "      <td>2</td>\n",
       "    </tr>\n",
       "    <tr>\n",
       "      <th>2</th>\n",
       "      <td>2</td>\n",
       "      <td>2024-09-04 15:33:20</td>\n",
       "      <td>2</td>\n",
       "      <td>The Seoul is pretty good I especially like the...</td>\n",
       "      <td>iaxlmao</td>\n",
       "      <td>1</td>\n",
       "    </tr>\n",
       "    <tr>\n",
       "      <th>3</th>\n",
       "      <td>3</td>\n",
       "      <td>2024-09-04 15:33:20</td>\n",
       "      <td>2</td>\n",
       "      <td>A lot of it depends on what type of food and w...</td>\n",
       "      <td>I-696</td>\n",
       "      <td>1</td>\n",
       "    </tr>\n",
       "    <tr>\n",
       "      <th>4</th>\n",
       "      <td>4</td>\n",
       "      <td>2024-09-04 14:32:17</td>\n",
       "      <td>1</td>\n",
       "      <td>You can book completely enclosed private study...</td>\n",
       "      <td>sneep_</td>\n",
       "      <td>2</td>\n",
       "    </tr>\n",
       "    <tr>\n",
       "      <th>...</th>\n",
       "      <td>...</td>\n",
       "      <td>...</td>\n",
       "      <td>...</td>\n",
       "      <td>...</td>\n",
       "      <td>...</td>\n",
       "      <td>...</td>\n",
       "    </tr>\n",
       "    <tr>\n",
       "      <th>8334</th>\n",
       "      <td>8334</td>\n",
       "      <td>2024-07-02 12:35:36</td>\n",
       "      <td>9</td>\n",
       "      <td>It isn’t a student org</td>\n",
       "      <td>Vibes_And_Smiles</td>\n",
       "      <td>1</td>\n",
       "    </tr>\n",
       "    <tr>\n",
       "      <th>8335</th>\n",
       "      <td>8335</td>\n",
       "      <td>2024-07-02 11:07:10</td>\n",
       "      <td>0</td>\n",
       "      <td>Life   \\nMatter   \\nLife's matter</td>\n",
       "      <td>tctu</td>\n",
       "      <td>8</td>\n",
       "    </tr>\n",
       "    <tr>\n",
       "      <th>8336</th>\n",
       "      <td>8336</td>\n",
       "      <td>2024-07-02 11:07:10</td>\n",
       "      <td>0</td>\n",
       "      <td>google</td>\n",
       "      <td>SUPERazkari</td>\n",
       "      <td>4</td>\n",
       "    </tr>\n",
       "    <tr>\n",
       "      <th>8337</th>\n",
       "      <td>8337</td>\n",
       "      <td>2024-07-02 11:07:10</td>\n",
       "      <td>0</td>\n",
       "      <td>That’s a hard question to answer for a set of ...</td>\n",
       "      <td>Own-Resident-3837</td>\n",
       "      <td>-1</td>\n",
       "    </tr>\n",
       "    <tr>\n",
       "      <th>8338</th>\n",
       "      <td>8338</td>\n",
       "      <td>2024-07-02 11:07:10</td>\n",
       "      <td>0</td>\n",
       "      <td>Not either one but instead why do people pick ...</td>\n",
       "      <td>No-Chemistry-6677</td>\n",
       "      <td>-4</td>\n",
       "    </tr>\n",
       "  </tbody>\n",
       "</table>\n",
       "<p>8339 rows × 6 columns</p>\n",
       "</div>"
      ],
      "text/plain": [
       "      Unnamed: 0                 date  post_votes  \\\n",
       "0              0  2024-09-04 15:33:20           2   \n",
       "1              1  2024-09-04 15:33:20           2   \n",
       "2              2  2024-09-04 15:33:20           2   \n",
       "3              3  2024-09-04 15:33:20           2   \n",
       "4              4  2024-09-04 14:32:17           1   \n",
       "...          ...                  ...         ...   \n",
       "8334        8334  2024-07-02 12:35:36           9   \n",
       "8335        8335  2024-07-02 11:07:10           0   \n",
       "8336        8336  2024-07-02 11:07:10           0   \n",
       "8337        8337  2024-07-02 11:07:10           0   \n",
       "8338        8338  2024-07-02 11:07:10           0   \n",
       "\n",
       "                                                   text               user  \\\n",
       "0     Zingermans has a nice reuben, pretty pricey bu...  Suspicious-Bad703   \n",
       "1                                I really love Tomokun!        webstbre000   \n",
       "2     The Seoul is pretty good I especially like the...            iaxlmao   \n",
       "3     A lot of it depends on what type of food and w...              I-696   \n",
       "4     You can book completely enclosed private study...             sneep_   \n",
       "...                                                 ...                ...   \n",
       "8334                             It isn’t a student org   Vibes_And_Smiles   \n",
       "8335                  Life   \\nMatter   \\nLife's matter               tctu   \n",
       "8336                                             google        SUPERazkari   \n",
       "8337  That’s a hard question to answer for a set of ...  Own-Resident-3837   \n",
       "8338  Not either one but instead why do people pick ...  No-Chemistry-6677   \n",
       "\n",
       "      com_votes  \n",
       "0             2  \n",
       "1             2  \n",
       "2             1  \n",
       "3             1  \n",
       "4             2  \n",
       "...         ...  \n",
       "8334          1  \n",
       "8335          8  \n",
       "8336          4  \n",
       "8337         -1  \n",
       "8338         -4  \n",
       "\n",
       "[8339 rows x 6 columns]"
      ]
     },
     "execution_count": 3,
     "metadata": {},
     "output_type": "execute_result"
    }
   ],
   "source": [
    "#jupyter will print a pretty representation of most python objects if you just put the name\n",
    "#we can see that the full text of each reddit comment is provided in the \"text\" column\n",
    "mich"
   ]
  },
  {
   "cell_type": "code",
   "execution_count": 4,
   "metadata": {},
   "outputs": [],
   "source": [
    "#this is a function that does some light cleaning, by removing newline characters, converting to lowercase, and removing punctuation\n",
    "\n",
    "def clean(text):\n",
    "    #remove newline and space characters\n",
    "    text = ' '.join(text.split())\n",
    "    #convert the text to lowercase\n",
    "    text = text.lower()\n",
    "    #remove punctuation\n",
    "    text = ''.join([char for char in text if char.isalpha() or char.isspace()])\n",
    "    return text"
   ]
  },
  {
   "cell_type": "code",
   "execution_count": 5,
   "metadata": {},
   "outputs": [],
   "source": [
    "#pandas allows us to quickly apply this cleaning function to all rows in a column\n",
    "mich['cleaned_text'] = mich['text'].apply(clean)"
   ]
  },
  {
   "cell_type": "code",
   "execution_count": 6,
   "metadata": {},
   "outputs": [
    {
     "data": {
      "text/plain": [
       "'zingermans has a nice reuben pretty pricey but the sammies are pretty big'"
      ]
     },
     "execution_count": 6,
     "metadata": {},
     "output_type": "execute_result"
    }
   ],
   "source": [
    "#we can see the first comment after cleaning vs before\n",
    "mich[\"cleaned_text\"][0]"
   ]
  },
  {
   "cell_type": "code",
   "execution_count": 7,
   "metadata": {},
   "outputs": [
    {
     "data": {
      "text/plain": [
       "'Zingermans has a nice reuben, pretty pricey but the sammies are pretty big'"
      ]
     },
     "execution_count": 7,
     "metadata": {},
     "output_type": "execute_result"
    }
   ],
   "source": [
    "mich[\"text\"][0]"
   ]
  },
  {
   "cell_type": "code",
   "execution_count": 8,
   "metadata": {},
   "outputs": [],
   "source": [
    "#create a bag of words representation with count vectorizer\n",
    "vectorizer = CountVectorizer()\n",
    "bag_of_words = vectorizer.fit_transform(mich['cleaned_text'])"
   ]
  },
  {
   "cell_type": "code",
   "execution_count": 9,
   "metadata": {},
   "outputs": [
    {
     "data": {
      "text/plain": [
       "<8339x15289 sparse matrix of type '<class 'numpy.int64'>'\n",
       "\twith 221217 stored elements in Compressed Sparse Row format>"
      ]
     },
     "execution_count": 9,
     "metadata": {},
     "output_type": "execute_result"
    }
   ],
   "source": [
    "#this is a sparse matrix, which is a more efficient way to store a matrix with many zeros\n",
    "#the matrix has 8339 rows (one for each comment) and 15289 columns (one for each unique word in the dataset)\n",
    "bag_of_words"
   ]
  },
  {
   "cell_type": "code",
   "execution_count": 10,
   "metadata": {},
   "outputs": [
    {
     "data": {
      "text/html": [
       "<div>\n",
       "<style scoped>\n",
       "    .dataframe tbody tr th:only-of-type {\n",
       "        vertical-align: middle;\n",
       "    }\n",
       "\n",
       "    .dataframe tbody tr th {\n",
       "        vertical-align: top;\n",
       "    }\n",
       "\n",
       "    .dataframe thead th {\n",
       "        text-align: right;\n",
       "    }\n",
       "</style>\n",
       "<table border=\"1\" class=\"dataframe\">\n",
       "  <thead>\n",
       "    <tr style=\"text-align: right;\">\n",
       "      <th></th>\n",
       "      <th>aa</th>\n",
       "      <th>aadl</th>\n",
       "      <th>aapd</th>\n",
       "      <th>aata</th>\n",
       "      <th>ab</th>\n",
       "      <th>abab</th>\n",
       "      <th>abandon</th>\n",
       "      <th>abandoned</th>\n",
       "      <th>abbreviation</th>\n",
       "      <th>abbreviations</th>\n",
       "      <th>...</th>\n",
       "      <th>zoned</th>\n",
       "      <th>zones</th>\n",
       "      <th>zoning</th>\n",
       "      <th>zoo</th>\n",
       "      <th>zoom</th>\n",
       "      <th>zoomer</th>\n",
       "      <th>zoomers</th>\n",
       "      <th>zuckerberg</th>\n",
       "      <th>𝓲𝓷𝓼𝓮𝓬𝓾𝓻𝓮</th>\n",
       "      <th>𝘢𝘩𝘦𝘮</th>\n",
       "    </tr>\n",
       "  </thead>\n",
       "  <tbody>\n",
       "    <tr>\n",
       "      <th>0</th>\n",
       "      <td>0</td>\n",
       "      <td>0</td>\n",
       "      <td>0</td>\n",
       "      <td>0</td>\n",
       "      <td>0</td>\n",
       "      <td>0</td>\n",
       "      <td>0</td>\n",
       "      <td>0</td>\n",
       "      <td>0</td>\n",
       "      <td>0</td>\n",
       "      <td>...</td>\n",
       "      <td>0</td>\n",
       "      <td>0</td>\n",
       "      <td>0</td>\n",
       "      <td>0</td>\n",
       "      <td>0</td>\n",
       "      <td>0</td>\n",
       "      <td>0</td>\n",
       "      <td>0</td>\n",
       "      <td>0</td>\n",
       "      <td>0</td>\n",
       "    </tr>\n",
       "    <tr>\n",
       "      <th>1</th>\n",
       "      <td>0</td>\n",
       "      <td>0</td>\n",
       "      <td>0</td>\n",
       "      <td>0</td>\n",
       "      <td>0</td>\n",
       "      <td>0</td>\n",
       "      <td>0</td>\n",
       "      <td>0</td>\n",
       "      <td>0</td>\n",
       "      <td>0</td>\n",
       "      <td>...</td>\n",
       "      <td>0</td>\n",
       "      <td>0</td>\n",
       "      <td>0</td>\n",
       "      <td>0</td>\n",
       "      <td>0</td>\n",
       "      <td>0</td>\n",
       "      <td>0</td>\n",
       "      <td>0</td>\n",
       "      <td>0</td>\n",
       "      <td>0</td>\n",
       "    </tr>\n",
       "    <tr>\n",
       "      <th>2</th>\n",
       "      <td>0</td>\n",
       "      <td>0</td>\n",
       "      <td>0</td>\n",
       "      <td>0</td>\n",
       "      <td>0</td>\n",
       "      <td>0</td>\n",
       "      <td>0</td>\n",
       "      <td>0</td>\n",
       "      <td>0</td>\n",
       "      <td>0</td>\n",
       "      <td>...</td>\n",
       "      <td>0</td>\n",
       "      <td>0</td>\n",
       "      <td>0</td>\n",
       "      <td>0</td>\n",
       "      <td>0</td>\n",
       "      <td>0</td>\n",
       "      <td>0</td>\n",
       "      <td>0</td>\n",
       "      <td>0</td>\n",
       "      <td>0</td>\n",
       "    </tr>\n",
       "    <tr>\n",
       "      <th>3</th>\n",
       "      <td>0</td>\n",
       "      <td>0</td>\n",
       "      <td>0</td>\n",
       "      <td>0</td>\n",
       "      <td>0</td>\n",
       "      <td>0</td>\n",
       "      <td>0</td>\n",
       "      <td>0</td>\n",
       "      <td>0</td>\n",
       "      <td>0</td>\n",
       "      <td>...</td>\n",
       "      <td>0</td>\n",
       "      <td>0</td>\n",
       "      <td>0</td>\n",
       "      <td>0</td>\n",
       "      <td>0</td>\n",
       "      <td>0</td>\n",
       "      <td>0</td>\n",
       "      <td>0</td>\n",
       "      <td>0</td>\n",
       "      <td>0</td>\n",
       "    </tr>\n",
       "    <tr>\n",
       "      <th>4</th>\n",
       "      <td>0</td>\n",
       "      <td>0</td>\n",
       "      <td>0</td>\n",
       "      <td>0</td>\n",
       "      <td>0</td>\n",
       "      <td>0</td>\n",
       "      <td>0</td>\n",
       "      <td>0</td>\n",
       "      <td>0</td>\n",
       "      <td>0</td>\n",
       "      <td>...</td>\n",
       "      <td>0</td>\n",
       "      <td>0</td>\n",
       "      <td>0</td>\n",
       "      <td>0</td>\n",
       "      <td>0</td>\n",
       "      <td>0</td>\n",
       "      <td>0</td>\n",
       "      <td>0</td>\n",
       "      <td>0</td>\n",
       "      <td>0</td>\n",
       "    </tr>\n",
       "    <tr>\n",
       "      <th>...</th>\n",
       "      <td>...</td>\n",
       "      <td>...</td>\n",
       "      <td>...</td>\n",
       "      <td>...</td>\n",
       "      <td>...</td>\n",
       "      <td>...</td>\n",
       "      <td>...</td>\n",
       "      <td>...</td>\n",
       "      <td>...</td>\n",
       "      <td>...</td>\n",
       "      <td>...</td>\n",
       "      <td>...</td>\n",
       "      <td>...</td>\n",
       "      <td>...</td>\n",
       "      <td>...</td>\n",
       "      <td>...</td>\n",
       "      <td>...</td>\n",
       "      <td>...</td>\n",
       "      <td>...</td>\n",
       "      <td>...</td>\n",
       "      <td>...</td>\n",
       "    </tr>\n",
       "    <tr>\n",
       "      <th>8334</th>\n",
       "      <td>0</td>\n",
       "      <td>0</td>\n",
       "      <td>0</td>\n",
       "      <td>0</td>\n",
       "      <td>0</td>\n",
       "      <td>0</td>\n",
       "      <td>0</td>\n",
       "      <td>0</td>\n",
       "      <td>0</td>\n",
       "      <td>0</td>\n",
       "      <td>...</td>\n",
       "      <td>0</td>\n",
       "      <td>0</td>\n",
       "      <td>0</td>\n",
       "      <td>0</td>\n",
       "      <td>0</td>\n",
       "      <td>0</td>\n",
       "      <td>0</td>\n",
       "      <td>0</td>\n",
       "      <td>0</td>\n",
       "      <td>0</td>\n",
       "    </tr>\n",
       "    <tr>\n",
       "      <th>8335</th>\n",
       "      <td>0</td>\n",
       "      <td>0</td>\n",
       "      <td>0</td>\n",
       "      <td>0</td>\n",
       "      <td>0</td>\n",
       "      <td>0</td>\n",
       "      <td>0</td>\n",
       "      <td>0</td>\n",
       "      <td>0</td>\n",
       "      <td>0</td>\n",
       "      <td>...</td>\n",
       "      <td>0</td>\n",
       "      <td>0</td>\n",
       "      <td>0</td>\n",
       "      <td>0</td>\n",
       "      <td>0</td>\n",
       "      <td>0</td>\n",
       "      <td>0</td>\n",
       "      <td>0</td>\n",
       "      <td>0</td>\n",
       "      <td>0</td>\n",
       "    </tr>\n",
       "    <tr>\n",
       "      <th>8336</th>\n",
       "      <td>0</td>\n",
       "      <td>0</td>\n",
       "      <td>0</td>\n",
       "      <td>0</td>\n",
       "      <td>0</td>\n",
       "      <td>0</td>\n",
       "      <td>0</td>\n",
       "      <td>0</td>\n",
       "      <td>0</td>\n",
       "      <td>0</td>\n",
       "      <td>...</td>\n",
       "      <td>0</td>\n",
       "      <td>0</td>\n",
       "      <td>0</td>\n",
       "      <td>0</td>\n",
       "      <td>0</td>\n",
       "      <td>0</td>\n",
       "      <td>0</td>\n",
       "      <td>0</td>\n",
       "      <td>0</td>\n",
       "      <td>0</td>\n",
       "    </tr>\n",
       "    <tr>\n",
       "      <th>8337</th>\n",
       "      <td>0</td>\n",
       "      <td>0</td>\n",
       "      <td>0</td>\n",
       "      <td>0</td>\n",
       "      <td>0</td>\n",
       "      <td>0</td>\n",
       "      <td>0</td>\n",
       "      <td>0</td>\n",
       "      <td>0</td>\n",
       "      <td>0</td>\n",
       "      <td>...</td>\n",
       "      <td>0</td>\n",
       "      <td>0</td>\n",
       "      <td>0</td>\n",
       "      <td>0</td>\n",
       "      <td>0</td>\n",
       "      <td>0</td>\n",
       "      <td>0</td>\n",
       "      <td>0</td>\n",
       "      <td>0</td>\n",
       "      <td>0</td>\n",
       "    </tr>\n",
       "    <tr>\n",
       "      <th>8338</th>\n",
       "      <td>0</td>\n",
       "      <td>0</td>\n",
       "      <td>0</td>\n",
       "      <td>0</td>\n",
       "      <td>0</td>\n",
       "      <td>0</td>\n",
       "      <td>0</td>\n",
       "      <td>0</td>\n",
       "      <td>0</td>\n",
       "      <td>0</td>\n",
       "      <td>...</td>\n",
       "      <td>0</td>\n",
       "      <td>0</td>\n",
       "      <td>0</td>\n",
       "      <td>0</td>\n",
       "      <td>0</td>\n",
       "      <td>0</td>\n",
       "      <td>0</td>\n",
       "      <td>0</td>\n",
       "      <td>0</td>\n",
       "      <td>0</td>\n",
       "    </tr>\n",
       "  </tbody>\n",
       "</table>\n",
       "<p>8339 rows × 15289 columns</p>\n",
       "</div>"
      ],
      "text/plain": [
       "      aa  aadl  aapd  aata  ab  abab  abandon  abandoned  abbreviation  \\\n",
       "0      0     0     0     0   0     0        0          0             0   \n",
       "1      0     0     0     0   0     0        0          0             0   \n",
       "2      0     0     0     0   0     0        0          0             0   \n",
       "3      0     0     0     0   0     0        0          0             0   \n",
       "4      0     0     0     0   0     0        0          0             0   \n",
       "...   ..   ...   ...   ...  ..   ...      ...        ...           ...   \n",
       "8334   0     0     0     0   0     0        0          0             0   \n",
       "8335   0     0     0     0   0     0        0          0             0   \n",
       "8336   0     0     0     0   0     0        0          0             0   \n",
       "8337   0     0     0     0   0     0        0          0             0   \n",
       "8338   0     0     0     0   0     0        0          0             0   \n",
       "\n",
       "      abbreviations  ...  zoned  zones  zoning  zoo  zoom  zoomer  zoomers  \\\n",
       "0                 0  ...      0      0       0    0     0       0        0   \n",
       "1                 0  ...      0      0       0    0     0       0        0   \n",
       "2                 0  ...      0      0       0    0     0       0        0   \n",
       "3                 0  ...      0      0       0    0     0       0        0   \n",
       "4                 0  ...      0      0       0    0     0       0        0   \n",
       "...             ...  ...    ...    ...     ...  ...   ...     ...      ...   \n",
       "8334              0  ...      0      0       0    0     0       0        0   \n",
       "8335              0  ...      0      0       0    0     0       0        0   \n",
       "8336              0  ...      0      0       0    0     0       0        0   \n",
       "8337              0  ...      0      0       0    0     0       0        0   \n",
       "8338              0  ...      0      0       0    0     0       0        0   \n",
       "\n",
       "      zuckerberg  𝓲𝓷𝓼𝓮𝓬𝓾𝓻𝓮  𝘢𝘩𝘦𝘮  \n",
       "0              0         0     0  \n",
       "1              0         0     0  \n",
       "2              0         0     0  \n",
       "3              0         0     0  \n",
       "4              0         0     0  \n",
       "...          ...       ...   ...  \n",
       "8334           0         0     0  \n",
       "8335           0         0     0  \n",
       "8336           0         0     0  \n",
       "8337           0         0     0  \n",
       "8338           0         0     0  \n",
       "\n",
       "[8339 rows x 15289 columns]"
      ]
     },
     "execution_count": 10,
     "metadata": {},
     "output_type": "execute_result"
    }
   ],
   "source": [
    "#create a dataframe from the sparse matrix\n",
    "#this is a more human-readable way to view the data\n",
    "bow_df = pd.DataFrame(bag_of_words.toarray(), columns=vectorizer.get_feature_names_out())\n",
    "bow_df"
   ]
  },
  {
   "cell_type": "code",
   "execution_count": 11,
   "metadata": {},
   "outputs": [
    {
     "data": {
      "text/plain": [
       "the            11306\n",
       "to              8480\n",
       "and             6921\n",
       "you             6256\n",
       "of              5028\n",
       "               ...  \n",
       "journals           1\n",
       "journeywhen        1\n",
       "jpg                1\n",
       "js                 1\n",
       "𝘢𝘩𝘦𝘮               1\n",
       "Length: 15289, dtype: int64"
      ]
     },
     "execution_count": 11,
     "metadata": {},
     "output_type": "execute_result"
    }
   ],
   "source": [
    "#dataframes have a convenient method for summing the values in each column\n",
    "#this will give us the number of times each word appears in the dataset\n",
    "word_counts = bow_df.sum()\n",
    "#we can sort the values to see the most common words\n",
    "word_counts = word_counts.sort_values(ascending=False)\n",
    "\n",
    "#notice that the top words are not very informative, as they are common words that appear in many contexts\n",
    "#and bottom words include a lot of typos and other noise\n",
    "word_counts"
   ]
  },
  {
   "cell_type": "code",
   "execution_count": 12,
   "metadata": {},
   "outputs": [
    {
     "data": {
      "image/png": "[encoded data removed]",
      "text/plain": [
       "<Figure size 2000x1000 with 1 Axes>"
      ]
     },
     "metadata": {},
     "output_type": "display_data"
    }
   ],
   "source": [
    "#we can plot the most common words\n",
    "#we will only plot the top 10 words for readability\n",
    "word_counts = word_counts.head(10)\n",
    "plt.figure(figsize=(20,10))\n",
    "plt.bar(word_counts.index, word_counts.values)\n",
    "plt.xticks(rotation=45)\n",
    "plt.show()"
   ]
  },
  {
   "cell_type": "markdown",
   "metadata": {},
   "source": [
    "#### Question 1: what do you notice about the words in this plot? Is this useful for studying the community?"
   ]
  },
  {
   "cell_type": "markdown",
   "metadata": {},
   "source": [
    "Answer here: No it is not helpful at all, all of the words in the graph are fillers and things not related to the actual contents in the datasets. It would not be helpful for studying the community."
   ]
  },
  {
   "cell_type": "markdown",
   "metadata": {},
   "source": [
    "#### Lemmatization and stopword removal"
   ]
  },
  {
   "cell_type": "code",
   "execution_count": 13,
   "metadata": {},
   "outputs": [],
   "source": [
    "#lemmatization function from the openclassrooms reading\n",
    "def lemmatize(text):\n",
    "\n",
    "   doc = language_model(text)\n",
    "\n",
    "   tokens = [token.lemma_ for token in doc if not (token.is_stop or token.is_punct)]\n",
    "\n",
    "   return ' '.join(tokens)"
   ]
  },
  {
   "cell_type": "code",
   "execution_count": 14,
   "metadata": {},
   "outputs": [],
   "source": [
    "#we can further process the text by removing stopwords and lemmatizing\n",
    "mich['lemmatized_text'] = mich['cleaned_text'].apply(lemmatize)"
   ]
  },
  {
   "cell_type": "code",
   "execution_count": 15,
   "metadata": {},
   "outputs": [],
   "source": [
    "#count vectorizer also has parameters min_df and max_df that can be used to filter out words that are too rare or too common\n",
    "#min_df=3 means that a word must appear in at least 3 documents to be included, this will remove typos and rare words\n",
    "#max_df=0.3 means that a word must appear in at most 30% of documents to be included, this will remove corpus-specific stopwords\n",
    "\n",
    "#we are also able to include n-grams in the count vectorizer\n",
    "#n-grams are sequences of n words that appear together in the text\n",
    "#the n-gram_range parameter specifies the minimum and maximum n-gram size to include (so in this case, we are including both unigrams and bigrams)\n",
    "\n",
    "vectorizer = CountVectorizer(min_df=3, max_df=0.3, ngram_range=(1,2))\n",
    "bag_of_words = vectorizer.fit_transform(mich['lemmatized_text'])"
   ]
  },
  {
   "cell_type": "code",
   "execution_count": 16,
   "metadata": {},
   "outputs": [
    {
     "data": {
      "text/plain": [
       "<8339x8637 sparse matrix of type '<class 'numpy.int64'>'\n",
       "\twith 126833 stored elements in Compressed Sparse Row format>"
      ]
     },
     "execution_count": 16,
     "metadata": {},
     "output_type": "execute_result"
    }
   ],
   "source": [
    "#we can see that we filtered out 11000 common words and typos\n",
    "bag_of_words"
   ]
  },
  {
   "cell_type": "code",
   "execution_count": 17,
   "metadata": {},
   "outputs": [
    {
     "data": {
      "text/plain": [
       "not               2862\n",
       "student           1183\n",
       "like              1183\n",
       "people            1124\n",
       "class              988\n",
       "                  ... \n",
       "sell minnesota       3\n",
       "cred                 3\n",
       "credential           3\n",
       "sell oregon          3\n",
       "pay dollar           3\n",
       "Length: 8637, dtype: int64"
      ]
     },
     "execution_count": 17,
     "metadata": {},
     "output_type": "execute_result"
    }
   ],
   "source": [
    "#we can repeat the previous code to create a dataframe and count the words\n",
    "bow_df = pd.DataFrame(bag_of_words.toarray(), columns=vectorizer.get_feature_names_out())\n",
    "word_counts = bow_df.sum()\n",
    "word_counts = word_counts.sort_values(ascending=False)\n",
    "word_counts"
   ]
  },
  {
   "cell_type": "code",
   "execution_count": 18,
   "metadata": {},
   "outputs": [],
   "source": [
    "#we can convert this to a percentage instead of an absolute count by dividing by the total number of words\n",
    "word_counts = word_counts / word_counts.sum()"
   ]
  },
  {
   "cell_type": "code",
   "execution_count": 19,
   "metadata": {},
   "outputs": [
    {
     "data": {
      "image/png": "[encoded data removed]",
      "text/plain": [
       "<Figure size 2000x1000 with 1 Axes>"
      ]
     },
     "metadata": {},
     "output_type": "display_data"
    }
   ],
   "source": [
    "#we can plot the most common words\n",
    "#we will only plot the top 10 words for readability\n",
    "plot_list = word_counts.head(10)\n",
    "plt.figure(figsize=(20,10))\n",
    "plt.bar(plot_list.index, plot_list.values)\n",
    "plt.xticks(rotation=45)\n",
    "plt.show()"
   ]
  },
  {
   "cell_type": "code",
   "execution_count": 20,
   "metadata": {},
   "outputs": [
    {
     "data": {
      "text/plain": [
       "4.138501862325838e-05"
      ]
     },
     "execution_count": 20,
     "metadata": {},
     "output_type": "execute_result"
    }
   ],
   "source": [
    "#pandas allows us to access specific words in the series using the index\n",
    "word_counts[\"student loan\"]"
   ]
  },
  {
   "cell_type": "code",
   "execution_count": 21,
   "metadata": {},
   "outputs": [
    {
     "data": {
      "text/plain": [
       "history             0.000352\n",
       "business            0.000600\n",
       "computer science    0.000034\n",
       "cs                  0.001228\n",
       "computer            0.000262\n",
       "dtype: float64"
      ]
     },
     "execution_count": 21,
     "metadata": {},
     "output_type": "execute_result"
    }
   ],
   "source": [
    "#we can also use a list of words to compare and plot specific words\n",
    "plot_list=word_counts[[\"history\", \"business\", \"computer science\", \"cs\", \"computer\"]]\n",
    "plot_list"
   ]
  },
  {
   "cell_type": "code",
   "execution_count": 22,
   "metadata": {},
   "outputs": [
    {
     "data": {
      "image/png": "[encoded data removed]",
      "text/plain": [
       "<Figure size 2000x1000 with 1 Axes>"
      ]
     },
     "metadata": {},
     "output_type": "display_data"
    }
   ],
   "source": [
    "\n",
    "plt.figure(figsize=(20,10))\n",
    "plt.bar(plot_list.index, plot_list.values)\n",
    "plt.xticks(rotation=45)\n",
    "plt.show()"
   ]
  },
  {
   "cell_type": "markdown",
   "metadata": {},
   "source": [
    "#### Question 2:"
   ]
  },
  {
   "cell_type": "code",
   "execution_count": 24,
   "metadata": {},
   "outputs": [
    {
     "data": {
      "text/plain": [
       "data             0.000069\n",
       "communication    0.000097\n",
       "biology          0.000055\n",
       "chemistry        0.000097\n",
       "physics          0.000559\n",
       "dtype: float64"
      ]
     },
     "execution_count": 24,
     "metadata": {},
     "output_type": "execute_result"
    }
   ],
   "source": [
    "#TODO: pick 5 words that you find interesting or are curious about, and plot a bar plot of their frequency in this dataset \n",
    "plot_list1=word_counts[[\"data\", \"communication\", \"biology\", \"chemistry\", \"physics\"]]\n",
    "plot_list1"
   ]
  },
  {
   "cell_type": "code",
   "execution_count": 25,
   "metadata": {},
   "outputs": [
    {
     "data": {
      "image/png": "[encoded data removed]",
      "text/plain": [
       "<Figure size 2000x1000 with 1 Axes>"
      ]
     },
     "metadata": {},
     "output_type": "display_data"
    }
   ],
   "source": [
    "plt.figure(figsize=(20,10))\n",
    "plt.bar(plot_list1.index, plot_list1.values)\n",
    "plt.xticks(rotation=45)\n",
    "plt.show()"
   ]
  },
  {
   "cell_type": "markdown",
   "metadata": {},
   "source": [
    "### Problem 2: repeat this process with the Illinois subreddit data (in this directory as \"uiuc.csv\"). You should not have to change too much in the previous code besides the dataframe path and name. Your notebook should include the two bar graphs including and excluding stopwords. Use the same 5 words and compare their relative frequency between the two subreddits. Discuss any interesting differences you notice in a short markdown cell. "
   ]
  },
  {
   "cell_type": "code",
   "execution_count": 26,
   "metadata": {},
   "outputs": [],
   "source": [
    "uiuc=pd.read_csv(\"uiuc.csv\")\n",
    "uiuc['cleaned_text'] = uiuc['text'].apply(clean)\n",
    "uiuc['lemmatized_text'] = uiuc['cleaned_text'].apply(lemmatize)\n",
    "bag_of_words1 = vectorizer.fit_transform(uiuc['lemmatized_text'])\n",
    "bow_df1 = pd.DataFrame(bag_of_words1.toarray(), columns=vectorizer.get_feature_names_out())\n",
    "word_counts1 = bow_df1.sum()\n",
    "word_counts1 = word_counts1.sort_values(ascending=False)\n",
    "word_counts1 = word_counts1 / word_counts1.sum()"
   ]
  },
  {
   "cell_type": "code",
   "execution_count": 27,
   "metadata": {},
   "outputs": [
    {
     "data": {
      "image/png": "[encoded data removed]",
      "text/plain": [
       "<Figure size 2000x1000 with 1 Axes>"
      ]
     },
     "metadata": {},
     "output_type": "display_data"
    }
   ],
   "source": [
    "plot_list = word_counts1.head(10)\n",
    "plt.figure(figsize=(20,10))\n",
    "plt.bar(plot_list.index, plot_list.values)\n",
    "plt.xticks(rotation=45)\n",
    "plt.show()"
   ]
  },
  {
   "cell_type": "code",
   "execution_count": 29,
   "metadata": {},
   "outputs": [
    {
     "data": {
      "image/png": "[encoded data removed]",
      "text/plain": [
       "<Figure size 2000x1000 with 1 Axes>"
      ]
     },
     "metadata": {},
     "output_type": "display_data"
    },
    {
     "data": {
      "text/plain": [
       "history             0.000344\n",
       "business            0.000543\n",
       "computer science    0.000054\n",
       "cs                  0.001411\n",
       "computer            0.000290\n",
       "dtype: float64"
      ]
     },
     "execution_count": 29,
     "metadata": {},
     "output_type": "execute_result"
    }
   ],
   "source": [
    "plot_list=word_counts1[[\"history\", \"business\", \"computer science\", \"cs\", \"computer\"]]\n",
    "plt.figure(figsize=(20,10))\n",
    "plt.bar(plot_list.index, plot_list.values)\n",
    "plt.xticks(rotation=45)\n",
    "plt.show()\n",
    "plot_list"
   ]
  },
  {
   "cell_type": "code",
   "execution_count": 31,
   "metadata": {},
   "outputs": [
    {
     "data": {
      "image/png": "[encoded data removed]",
      "text/plain": [
       "<Figure size 2000x1000 with 1 Axes>"
      ]
     },
     "metadata": {},
     "output_type": "display_data"
    },
    {
     "data": {
      "text/plain": [
       "communication    0.000054\n",
       "chemistry        0.000127\n",
       "physics          0.000199\n",
       "dtype: float64"
      ]
     },
     "execution_count": 31,
     "metadata": {},
     "output_type": "execute_result"
    }
   ],
   "source": [
    "plot_list=word_counts1[[\"communication\", \"chemistry\", \"physics\"]]\n",
    "# neither data or biology were in the uiuc dataset\n",
    "plt.figure(figsize=(20,10))\n",
    "plt.bar(plot_list.index, plot_list.values)\n",
    "plt.xticks(rotation=45)\n",
    "plt.show()\n",
    "plot_list"
   ]
  },
  {
   "cell_type": "markdown",
   "metadata": {},
   "source": [
    "Interesting findings: Not is highly used in both schools. There's more CS in UIUC compared to Umich, and there's significantly less physics and communications in UIUC than Umich. Also it says that there's no biology and data are found in the uiuc dataset which is quite interesting."
   ]
  },
  {
   "cell_type": "markdown",
   "metadata": {},
   "source": [
    "### Problem 3: using the provided combined dataframe, train a logistic regression model using the sklearn Logistic Regression implementation. https://scikit-learn.org/stable/modules/generated/sklearn.linear_model.LogisticRegression.html. Create a bag of words table from the combined data, and use that along with the \"label\" column to train the classifier. Please try this out and be prepared with issues or questions next Monday. We will be discussing in class"
   ]
  },
  {
   "cell_type": "code",
   "execution_count": 32,
   "metadata": {},
   "outputs": [
    {
     "data": {
      "text/html": [
       "<div>\n",
       "<style scoped>\n",
       "    .dataframe tbody tr th:only-of-type {\n",
       "        vertical-align: middle;\n",
       "    }\n",
       "\n",
       "    .dataframe tbody tr th {\n",
       "        vertical-align: top;\n",
       "    }\n",
       "\n",
       "    .dataframe thead th {\n",
       "        text-align: right;\n",
       "    }\n",
       "</style>\n",
       "<table border=\"1\" class=\"dataframe\">\n",
       "  <thead>\n",
       "    <tr style=\"text-align: right;\">\n",
       "      <th></th>\n",
       "      <th>Unnamed: 0</th>\n",
       "      <th>date</th>\n",
       "      <th>post_votes</th>\n",
       "      <th>text</th>\n",
       "      <th>user</th>\n",
       "      <th>com_votes</th>\n",
       "      <th>label</th>\n",
       "    </tr>\n",
       "  </thead>\n",
       "  <tbody>\n",
       "    <tr>\n",
       "      <th>0</th>\n",
       "      <td>0</td>\n",
       "      <td>2024-09-04 14:43:40</td>\n",
       "      <td>2</td>\n",
       "      <td>Have the same professor! And in lecture he did...</td>\n",
       "      <td>zhen3441</td>\n",
       "      <td>2</td>\n",
       "      <td>1</td>\n",
       "    </tr>\n",
       "    <tr>\n",
       "      <th>1</th>\n",
       "      <td>1</td>\n",
       "      <td>2024-09-04 14:43:40</td>\n",
       "      <td>2</td>\n",
       "      <td>Do you find it helpful to still go to the lect...</td>\n",
       "      <td>Kai2747</td>\n",
       "      <td>1</td>\n",
       "      <td>1</td>\n",
       "    </tr>\n",
       "    <tr>\n",
       "      <th>2</th>\n",
       "      <td>2</td>\n",
       "      <td>2024-09-04 12:52:08</td>\n",
       "      <td>3</td>\n",
       "      <td>Have you tried emailing University Housing to ...</td>\n",
       "      <td>TurboBKTastic</td>\n",
       "      <td>2</td>\n",
       "      <td>1</td>\n",
       "    </tr>\n",
       "    <tr>\n",
       "      <th>3</th>\n",
       "      <td>3</td>\n",
       "      <td>2024-09-04 12:52:08</td>\n",
       "      <td>3</td>\n",
       "      <td>Purchasing Illini Cash should get you added to...</td>\n",
       "      <td>HoosierCAB</td>\n",
       "      <td>2</td>\n",
       "      <td>1</td>\n",
       "    </tr>\n",
       "    <tr>\n",
       "      <th>4</th>\n",
       "      <td>4</td>\n",
       "      <td>2024-09-04 12:52:08</td>\n",
       "      <td>3</td>\n",
       "      <td>Just did, thanks for the suggestion! It hadn't...</td>\n",
       "      <td>Sector-Both</td>\n",
       "      <td>1</td>\n",
       "      <td>1</td>\n",
       "    </tr>\n",
       "    <tr>\n",
       "      <th>...</th>\n",
       "      <td>...</td>\n",
       "      <td>...</td>\n",
       "      <td>...</td>\n",
       "      <td>...</td>\n",
       "      <td>...</td>\n",
       "      <td>...</td>\n",
       "      <td>...</td>\n",
       "    </tr>\n",
       "    <tr>\n",
       "      <th>4884</th>\n",
       "      <td>4884</td>\n",
       "      <td>2024-08-05 21:28:21</td>\n",
       "      <td>34</td>\n",
       "      <td>No</td>\n",
       "      <td>Whiskey-Football-Ski</td>\n",
       "      <td>1</td>\n",
       "      <td>0</td>\n",
       "    </tr>\n",
       "    <tr>\n",
       "      <th>7966</th>\n",
       "      <td>7966</td>\n",
       "      <td>2024-07-08 16:45:40</td>\n",
       "      <td>1</td>\n",
       "      <td>This is a Fakespot Reviews Analysis bot. Fakes...</td>\n",
       "      <td>FakespotAnalysisBot</td>\n",
       "      <td>-2</td>\n",
       "      <td>0</td>\n",
       "    </tr>\n",
       "    <tr>\n",
       "      <th>2756</th>\n",
       "      <td>2756</td>\n",
       "      <td>2024-08-24 19:20:19</td>\n",
       "      <td>22</td>\n",
       "      <td>Wow, you have a long list of dislikes. But, if...</td>\n",
       "      <td>Plum_Haz_1</td>\n",
       "      <td>2</td>\n",
       "      <td>0</td>\n",
       "    </tr>\n",
       "    <tr>\n",
       "      <th>1729</th>\n",
       "      <td>1729</td>\n",
       "      <td>2024-08-27 23:13:02</td>\n",
       "      <td>202</td>\n",
       "      <td>Being annoying doesn't suddenly make people su...</td>\n",
       "      <td>MourningCocktails</td>\n",
       "      <td>17</td>\n",
       "      <td>0</td>\n",
       "    </tr>\n",
       "    <tr>\n",
       "      <th>4675</th>\n",
       "      <td>4675</td>\n",
       "      <td>2024-08-07 20:48:25</td>\n",
       "      <td>1</td>\n",
       "      <td>Also good to mention: I took 140 with 2 other ...</td>\n",
       "      <td>broken_css</td>\n",
       "      <td>1</td>\n",
       "      <td>0</td>\n",
       "    </tr>\n",
       "  </tbody>\n",
       "</table>\n",
       "<p>9450 rows × 7 columns</p>\n",
       "</div>"
      ],
      "text/plain": [
       "      Unnamed: 0                 date  post_votes  \\\n",
       "0              0  2024-09-04 14:43:40           2   \n",
       "1              1  2024-09-04 14:43:40           2   \n",
       "2              2  2024-09-04 12:52:08           3   \n",
       "3              3  2024-09-04 12:52:08           3   \n",
       "4              4  2024-09-04 12:52:08           3   \n",
       "...          ...                  ...         ...   \n",
       "4884        4884  2024-08-05 21:28:21          34   \n",
       "7966        7966  2024-07-08 16:45:40           1   \n",
       "2756        2756  2024-08-24 19:20:19          22   \n",
       "1729        1729  2024-08-27 23:13:02         202   \n",
       "4675        4675  2024-08-07 20:48:25           1   \n",
       "\n",
       "                                                   text                  user  \\\n",
       "0     Have the same professor! And in lecture he did...              zhen3441   \n",
       "1     Do you find it helpful to still go to the lect...               Kai2747   \n",
       "2     Have you tried emailing University Housing to ...         TurboBKTastic   \n",
       "3     Purchasing Illini Cash should get you added to...            HoosierCAB   \n",
       "4     Just did, thanks for the suggestion! It hadn't...           Sector-Both   \n",
       "...                                                 ...                   ...   \n",
       "4884                                                 No  Whiskey-Football-Ski   \n",
       "7966  This is a Fakespot Reviews Analysis bot. Fakes...   FakespotAnalysisBot   \n",
       "2756  Wow, you have a long list of dislikes. But, if...            Plum_Haz_1   \n",
       "1729  Being annoying doesn't suddenly make people su...     MourningCocktails   \n",
       "4675  Also good to mention: I took 140 with 2 other ...            broken_css   \n",
       "\n",
       "      com_votes  label  \n",
       "0             2      1  \n",
       "1             1      1  \n",
       "2             2      1  \n",
       "3             2      1  \n",
       "4             1      1  \n",
       "...         ...    ...  \n",
       "4884          1      0  \n",
       "7966         -2      0  \n",
       "2756          2      0  \n",
       "1729         17      0  \n",
       "4675          1      0  \n",
       "\n",
       "[9450 rows x 7 columns]"
      ]
     },
     "execution_count": 32,
     "metadata": {},
     "output_type": "execute_result"
    }
   ],
   "source": [
    "uiuc=pd.read_csv(\"uiuc.csv\")\n",
    "mich=pd.read_csv(\"umich.csv\")\n",
    "\n",
    "#sample so we have even number of samples from each dataset\n",
    "mich=mich.sample(n=4725)\n",
    "\n",
    "#assign labels based on origin subreddit of comment\n",
    "uiuc['label']=1\n",
    "mich['label']=0\n",
    "\n",
    "#you will be working with the data csv for the rest of the question\n",
    "data=pd.concat([uiuc,mich])\n",
    "data"
   ]
  },
  {
   "cell_type": "code",
   "execution_count": 34,
   "metadata": {},
   "outputs": [
    {
     "data": {
      "text/html": [
       "<div>\n",
       "<style scoped>\n",
       "    .dataframe tbody tr th:only-of-type {\n",
       "        vertical-align: middle;\n",
       "    }\n",
       "\n",
       "    .dataframe tbody tr th {\n",
       "        vertical-align: top;\n",
       "    }\n",
       "\n",
       "    .dataframe thead th {\n",
       "        text-align: right;\n",
       "    }\n",
       "</style>\n",
       "<table border=\"1\" class=\"dataframe\">\n",
       "  <thead>\n",
       "    <tr style=\"text-align: right;\">\n",
       "      <th></th>\n",
       "      <th>Unnamed: 0</th>\n",
       "      <th>date</th>\n",
       "      <th>post_votes</th>\n",
       "      <th>text</th>\n",
       "      <th>user</th>\n",
       "      <th>com_votes</th>\n",
       "      <th>label</th>\n",
       "      <th>cleaned_text</th>\n",
       "      <th>lemmatized_text</th>\n",
       "    </tr>\n",
       "  </thead>\n",
       "  <tbody>\n",
       "    <tr>\n",
       "      <th>0</th>\n",
       "      <td>0</td>\n",
       "      <td>2024-09-04 14:43:40</td>\n",
       "      <td>2</td>\n",
       "      <td>Have the same professor! And in lecture he did...</td>\n",
       "      <td>zhen3441</td>\n",
       "      <td>2</td>\n",
       "      <td>1</td>\n",
       "      <td>have the same professor and in lecture he did ...</td>\n",
       "      <td>professor lecture go to learn stuff ourself re...</td>\n",
       "    </tr>\n",
       "    <tr>\n",
       "      <th>1</th>\n",
       "      <td>1</td>\n",
       "      <td>2024-09-04 14:43:40</td>\n",
       "      <td>2</td>\n",
       "      <td>Do you find it helpful to still go to the lect...</td>\n",
       "      <td>Kai2747</td>\n",
       "      <td>1</td>\n",
       "      <td>1</td>\n",
       "      <td>do you find it helpful to still go to the lect...</td>\n",
       "      <td>find helpful lecture slide embed mistake make ...</td>\n",
       "    </tr>\n",
       "    <tr>\n",
       "      <th>2</th>\n",
       "      <td>2</td>\n",
       "      <td>2024-09-04 12:52:08</td>\n",
       "      <td>3</td>\n",
       "      <td>Have you tried emailing University Housing to ...</td>\n",
       "      <td>TurboBKTastic</td>\n",
       "      <td>2</td>\n",
       "      <td>1</td>\n",
       "      <td>have you tried emailing university housing to ...</td>\n",
       "      <td>try email university housing request access</td>\n",
       "    </tr>\n",
       "    <tr>\n",
       "      <th>3</th>\n",
       "      <td>3</td>\n",
       "      <td>2024-09-04 12:52:08</td>\n",
       "      <td>3</td>\n",
       "      <td>Purchasing Illini Cash should get you added to...</td>\n",
       "      <td>HoosierCAB</td>\n",
       "      <td>2</td>\n",
       "      <td>1</td>\n",
       "      <td>purchasing illini cash should get you added to...</td>\n",
       "      <td>purchase illini cash add nonresident meal plan...</td>\n",
       "    </tr>\n",
       "    <tr>\n",
       "      <th>4</th>\n",
       "      <td>4</td>\n",
       "      <td>2024-09-04 12:52:08</td>\n",
       "      <td>3</td>\n",
       "      <td>Just did, thanks for the suggestion! It hadn't...</td>\n",
       "      <td>Sector-Both</td>\n",
       "      <td>1</td>\n",
       "      <td>1</td>\n",
       "      <td>just did thanks for the suggestion it hadnt oc...</td>\n",
       "      <td>thank suggestion not occur</td>\n",
       "    </tr>\n",
       "  </tbody>\n",
       "</table>\n",
       "</div>"
      ],
      "text/plain": [
       "   Unnamed: 0                 date  post_votes  \\\n",
       "0           0  2024-09-04 14:43:40           2   \n",
       "1           1  2024-09-04 14:43:40           2   \n",
       "2           2  2024-09-04 12:52:08           3   \n",
       "3           3  2024-09-04 12:52:08           3   \n",
       "4           4  2024-09-04 12:52:08           3   \n",
       "\n",
       "                                                text           user  \\\n",
       "0  Have the same professor! And in lecture he did...       zhen3441   \n",
       "1  Do you find it helpful to still go to the lect...        Kai2747   \n",
       "2  Have you tried emailing University Housing to ...  TurboBKTastic   \n",
       "3  Purchasing Illini Cash should get you added to...     HoosierCAB   \n",
       "4  Just did, thanks for the suggestion! It hadn't...    Sector-Both   \n",
       "\n",
       "   com_votes  label                                       cleaned_text  \\\n",
       "0          2      1  have the same professor and in lecture he did ...   \n",
       "1          1      1  do you find it helpful to still go to the lect...   \n",
       "2          2      1  have you tried emailing university housing to ...   \n",
       "3          2      1  purchasing illini cash should get you added to...   \n",
       "4          1      1  just did thanks for the suggestion it hadnt oc...   \n",
       "\n",
       "                                     lemmatized_text  \n",
       "0  professor lecture go to learn stuff ourself re...  \n",
       "1  find helpful lecture slide embed mistake make ...  \n",
       "2        try email university housing request access  \n",
       "3  purchase illini cash add nonresident meal plan...  \n",
       "4                         thank suggestion not occur  "
      ]
     },
     "execution_count": 34,
     "metadata": {},
     "output_type": "execute_result"
    }
   ],
   "source": [
    "#clean and lemmatize the data csv\n",
    "data['cleaned_text'] = data['text'].apply(clean)\n",
    "data['lemmatized_text'] = data['cleaned_text'].apply(lemmatize)\n",
    "data.head()"
   ]
  },
  {
   "cell_type": "code",
   "execution_count": 36,
   "metadata": {},
   "outputs": [
    {
     "data": {
      "text/html": [
       "<div>\n",
       "<style scoped>\n",
       "    .dataframe tbody tr th:only-of-type {\n",
       "        vertical-align: middle;\n",
       "    }\n",
       "\n",
       "    .dataframe tbody tr th {\n",
       "        vertical-align: top;\n",
       "    }\n",
       "\n",
       "    .dataframe thead th {\n",
       "        text-align: right;\n",
       "    }\n",
       "</style>\n",
       "<table border=\"1\" class=\"dataframe\">\n",
       "  <thead>\n",
       "    <tr style=\"text-align: right;\">\n",
       "      <th></th>\n",
       "      <th>aa</th>\n",
       "      <th>aata</th>\n",
       "      <th>ab</th>\n",
       "      <th>abhorrent</th>\n",
       "      <th>abide</th>\n",
       "      <th>ability</th>\n",
       "      <th>able</th>\n",
       "      <th>able attend</th>\n",
       "      <th>able contact</th>\n",
       "      <th>able find</th>\n",
       "      <th>...</th>\n",
       "      <th>yummy</th>\n",
       "      <th>yup</th>\n",
       "      <th>zelle</th>\n",
       "      <th>zero</th>\n",
       "      <th>zionism</th>\n",
       "      <th>zionist</th>\n",
       "      <th>zionist day</th>\n",
       "      <th>zip</th>\n",
       "      <th>zone</th>\n",
       "      <th>zoom</th>\n",
       "    </tr>\n",
       "  </thead>\n",
       "  <tbody>\n",
       "    <tr>\n",
       "      <th>0</th>\n",
       "      <td>0</td>\n",
       "      <td>0</td>\n",
       "      <td>0</td>\n",
       "      <td>0</td>\n",
       "      <td>0</td>\n",
       "      <td>0</td>\n",
       "      <td>0</td>\n",
       "      <td>0</td>\n",
       "      <td>0</td>\n",
       "      <td>0</td>\n",
       "      <td>...</td>\n",
       "      <td>0</td>\n",
       "      <td>0</td>\n",
       "      <td>0</td>\n",
       "      <td>0</td>\n",
       "      <td>0</td>\n",
       "      <td>0</td>\n",
       "      <td>0</td>\n",
       "      <td>0</td>\n",
       "      <td>0</td>\n",
       "      <td>0</td>\n",
       "    </tr>\n",
       "    <tr>\n",
       "      <th>1</th>\n",
       "      <td>0</td>\n",
       "      <td>0</td>\n",
       "      <td>0</td>\n",
       "      <td>0</td>\n",
       "      <td>0</td>\n",
       "      <td>0</td>\n",
       "      <td>0</td>\n",
       "      <td>0</td>\n",
       "      <td>0</td>\n",
       "      <td>0</td>\n",
       "      <td>...</td>\n",
       "      <td>0</td>\n",
       "      <td>0</td>\n",
       "      <td>0</td>\n",
       "      <td>0</td>\n",
       "      <td>0</td>\n",
       "      <td>0</td>\n",
       "      <td>0</td>\n",
       "      <td>0</td>\n",
       "      <td>0</td>\n",
       "      <td>0</td>\n",
       "    </tr>\n",
       "    <tr>\n",
       "      <th>2</th>\n",
       "      <td>0</td>\n",
       "      <td>0</td>\n",
       "      <td>0</td>\n",
       "      <td>0</td>\n",
       "      <td>0</td>\n",
       "      <td>0</td>\n",
       "      <td>0</td>\n",
       "      <td>0</td>\n",
       "      <td>0</td>\n",
       "      <td>0</td>\n",
       "      <td>...</td>\n",
       "      <td>0</td>\n",
       "      <td>0</td>\n",
       "      <td>0</td>\n",
       "      <td>0</td>\n",
       "      <td>0</td>\n",
       "      <td>0</td>\n",
       "      <td>0</td>\n",
       "      <td>0</td>\n",
       "      <td>0</td>\n",
       "      <td>0</td>\n",
       "    </tr>\n",
       "    <tr>\n",
       "      <th>3</th>\n",
       "      <td>0</td>\n",
       "      <td>0</td>\n",
       "      <td>0</td>\n",
       "      <td>0</td>\n",
       "      <td>0</td>\n",
       "      <td>0</td>\n",
       "      <td>0</td>\n",
       "      <td>0</td>\n",
       "      <td>0</td>\n",
       "      <td>0</td>\n",
       "      <td>...</td>\n",
       "      <td>0</td>\n",
       "      <td>0</td>\n",
       "      <td>0</td>\n",
       "      <td>0</td>\n",
       "      <td>0</td>\n",
       "      <td>0</td>\n",
       "      <td>0</td>\n",
       "      <td>0</td>\n",
       "      <td>0</td>\n",
       "      <td>0</td>\n",
       "    </tr>\n",
       "    <tr>\n",
       "      <th>4</th>\n",
       "      <td>0</td>\n",
       "      <td>0</td>\n",
       "      <td>0</td>\n",
       "      <td>0</td>\n",
       "      <td>0</td>\n",
       "      <td>0</td>\n",
       "      <td>0</td>\n",
       "      <td>0</td>\n",
       "      <td>0</td>\n",
       "      <td>0</td>\n",
       "      <td>...</td>\n",
       "      <td>0</td>\n",
       "      <td>0</td>\n",
       "      <td>0</td>\n",
       "      <td>0</td>\n",
       "      <td>0</td>\n",
       "      <td>0</td>\n",
       "      <td>0</td>\n",
       "      <td>0</td>\n",
       "      <td>0</td>\n",
       "      <td>0</td>\n",
       "    </tr>\n",
       "  </tbody>\n",
       "</table>\n",
       "<p>5 rows × 8511 columns</p>\n",
       "</div>"
      ],
      "text/plain": [
       "   aa  aata  ab  abhorrent  abide  ability  able  able attend  able contact  \\\n",
       "0   0     0   0          0      0        0     0            0             0   \n",
       "1   0     0   0          0      0        0     0            0             0   \n",
       "2   0     0   0          0      0        0     0            0             0   \n",
       "3   0     0   0          0      0        0     0            0             0   \n",
       "4   0     0   0          0      0        0     0            0             0   \n",
       "\n",
       "   able find  ...  yummy  yup  zelle  zero  zionism  zionist  zionist day  \\\n",
       "0          0  ...      0    0      0     0        0        0            0   \n",
       "1          0  ...      0    0      0     0        0        0            0   \n",
       "2          0  ...      0    0      0     0        0        0            0   \n",
       "3          0  ...      0    0      0     0        0        0            0   \n",
       "4          0  ...      0    0      0     0        0        0            0   \n",
       "\n",
       "   zip  zone  zoom  \n",
       "0    0     0     0  \n",
       "1    0     0     0  \n",
       "2    0     0     0  \n",
       "3    0     0     0  \n",
       "4    0     0     0  \n",
       "\n",
       "[5 rows x 8511 columns]"
      ]
     },
     "execution_count": 36,
     "metadata": {},
     "output_type": "execute_result"
    }
   ],
   "source": [
    "#create a bag of words representation with count vectorizer\n",
    "bag_of_words2 = vectorizer.fit_transform(data['lemmatized_text'])\n",
    "bow_df2 = pd.DataFrame(bag_of_words2.toarray(), columns=vectorizer.get_feature_names_out())\n",
    "bow_df2.head()"
   ]
  },
  {
   "cell_type": "code",
   "execution_count": 37,
   "metadata": {},
   "outputs": [
    {
     "name": "stderr",
     "output_type": "stream",
     "text": [
      "/Users/huangshawn/anaconda3/envs/is310/lib/python3.9/site-packages/sklearn/utils/validation.py:1184: DataConversionWarning: A column-vector y was passed when a 1d array was expected. Please change the shape of y to (n_samples, ), for example using ravel().\n",
      "  y = column_or_1d(y, warn=True)\n",
      "/Users/huangshawn/anaconda3/envs/is310/lib/python3.9/site-packages/sklearn/linear_model/_logistic.py:460: ConvergenceWarning: lbfgs failed to converge (status=1):\n",
      "STOP: TOTAL NO. of ITERATIONS REACHED LIMIT.\n",
      "\n",
      "Increase the number of iterations (max_iter) or scale the data as shown in:\n",
      "    https://scikit-learn.org/stable/modules/preprocessing.html\n",
      "Please also refer to the documentation for alternative solver options:\n",
      "    https://scikit-learn.org/stable/modules/linear_model.html#logistic-regression\n",
      "  n_iter_i = _check_optimize_result(\n"
     ]
    }
   ],
   "source": [
    "#train a logistic regression model using the bag of words features as X and the label column as y\n",
    "y = data[['label']]\n",
    "from sklearn.linear_model import LogisticRegression\n",
    "clf = LogisticRegression(random_state=0).fit(bow_df2, y)"
   ]
  },
  {
   "cell_type": "code",
   "execution_count": 38,
   "metadata": {},
   "outputs": [
    {
     "data": {
      "text/plain": [
       "0.9004232804232805"
      ]
     },
     "execution_count": 38,
     "metadata": {},
     "output_type": "execute_result"
    }
   ],
   "source": [
    "#report the accuracy of the model\n",
    "clf.score(bow_df2, y)"
   ]
  },
  {
   "cell_type": "markdown",
   "metadata": {},
   "source": [
    "#### Part 2: hold out part of the dataset using sklearn train_test_split (https://scikit-learn.org/stable/modules/generated/sklearn.model_selection.train_test_split.html). Pass in your previously generated bag of words as X and the label column as y. Use only the X_train and y_train for training and hold out the X_test and y_test to score the model on unseen data."
   ]
  },
  {
   "cell_type": "code",
   "execution_count": 39,
   "metadata": {},
   "outputs": [
    {
     "name": "stderr",
     "output_type": "stream",
     "text": [
      "/Users/huangshawn/anaconda3/envs/is310/lib/python3.9/site-packages/sklearn/utils/validation.py:1184: DataConversionWarning: A column-vector y was passed when a 1d array was expected. Please change the shape of y to (n_samples, ), for example using ravel().\n",
      "  y = column_or_1d(y, warn=True)\n",
      "/Users/huangshawn/anaconda3/envs/is310/lib/python3.9/site-packages/sklearn/linear_model/_logistic.py:460: ConvergenceWarning: lbfgs failed to converge (status=1):\n",
      "STOP: TOTAL NO. of ITERATIONS REACHED LIMIT.\n",
      "\n",
      "Increase the number of iterations (max_iter) or scale the data as shown in:\n",
      "    https://scikit-learn.org/stable/modules/preprocessing.html\n",
      "Please also refer to the documentation for alternative solver options:\n",
      "    https://scikit-learn.org/stable/modules/linear_model.html#logistic-regression\n",
      "  n_iter_i = _check_optimize_result(\n"
     ]
    },
    {
     "data": {
      "text/plain": [
       "0.7116402116402116"
      ]
     },
     "execution_count": 39,
     "metadata": {},
     "output_type": "execute_result"
    }
   ],
   "source": [
    "# what is the accuracy of the model? Is it better or worse than previous?Why do you think it has changed? \n",
    "from sklearn.model_selection import train_test_split\n",
    "X_train, X_test, y_train, y_test = train_test_split(bow_df2, y, test_size=0.2, random_state=42)\n",
    "clftts = LogisticRegression(random_state=0).fit(X_train, y_train)\n",
    "clftts.score(X_test, y_test)"
   ]
  },
  {
   "cell_type": "markdown",
   "metadata": {},
   "source": [
    "the accuracy is 0.71 which is worse than the previous because it is testing using unseen data. this score is more reliable."
   ]
  },
  {
   "cell_type": "markdown",
   "metadata": {},
   "source": [
    "#### Part 3: Examine the top features of your model using the following code"
   ]
  },
  {
   "cell_type": "code",
   "execution_count": null,
   "metadata": {},
   "outputs": [],
   "source": [
    "#get the coefficients of the model and plot the top 10 most positive and top 10 most negative coefficients\n",
    "#what do you notice about these words? Are they surprising or expected?"
   ]
  },
  {
   "cell_type": "code",
   "execution_count": 41,
   "metadata": {},
   "outputs": [
    {
     "name": "stdout",
     "output_type": "stream",
     "text": [
      "        feature  coefficient\n",
      "7821       uiuc     2.460057\n",
      "3372   illinois     2.156477\n",
      "6297       rsos     1.824190\n",
      "7933     urbana     1.798645\n",
      "2919   grainger     1.715233\n",
      "3369     illini     1.626497\n",
      "1545   danville     1.616206\n",
      "3798        las     1.559428\n",
      "955   champaign     1.511496\n",
      "6711      smile     1.468177\n",
      "        feature  coefficient\n",
      "436      august    -1.709297\n",
      "2647       gaza    -1.716941\n",
      "8329  wolverine    -1.717521\n",
      "8069       vote    -1.780797\n",
      "7828         um    -1.919597\n",
      "4386      mcard    -1.921843\n",
      "6284       ross    -1.956062\n",
      "2544     fresno    -2.048079\n",
      "7831      umich    -2.160485\n",
      "4468   michigan    -2.956842\n"
     ]
    }
   ],
   "source": [
    "coefficients = pd.DataFrame({'feature': X_train.columns, 'coefficient': clftts.coef_[0]})\n",
    "coefficients = coefficients.sort_values('coefficient', ascending=False)\n",
    "top_10_positive = coefficients.head(10)\n",
    "top_10_negative = coefficients.tail(10)\n",
    "print(top_10_positive)\n",
    "print(top_10_negative)"
   ]
  },
  {
   "cell_type": "code",
   "execution_count": 42,
   "metadata": {},
   "outputs": [],
   "source": [
    "#examine these words and see if they make sense. Do they differentiate UIUC from another university?"
   ]
  },
  {
   "cell_type": "markdown",
   "metadata": {},
   "source": [
    "yes they make sense and it is pretty distict as umich and michigan are in umich and words like illini and grainger are only used in uiuc. However it is strange that umich mention august significantly higher compared to uiuc."
   ]
  },
  {
   "cell_type": "markdown",
   "metadata": {},
   "source": [
    "### Problem 4: Train a 10 topic topic model from the UIUC subreddit data using Gensim LDA. (https://radimrehurek.com/gensim/auto_examples/tutorials/run_lda.html) If you get here before Wednesday 9/11, don't rush to finish, but feel free to continue ahead. We will go through this in class. Print out the top words in each topic, and read through the words for each topic to decide the theme of the topic: remember this is subjective and there are no right or wrong answers. Print out a few comments with high frequencies of each topic and analyze if your topic labels were representative. "
   ]
  },
  {
   "cell_type": "code",
   "execution_count": 43,
   "metadata": {},
   "outputs": [
    {
     "name": "stdout",
     "output_type": "stream",
     "text": [
      "/bin/bash: /Users/huangshawn/anaconda3/envs/is310/bin/pip: /Users/huangshawn/anaconda3/envs/“is310”/bin/python: bad interpreter: No such file or directory\n"
     ]
    }
   ],
   "source": [
    "!pip install gensim"
   ]
  },
  {
   "cell_type": "code",
   "execution_count": 46,
   "metadata": {},
   "outputs": [],
   "source": [
    "from gensim import corpora\n",
    "from gensim.models import LdaModel\n",
    "from gensim.matutils import Sparse2Corpus"
   ]
  },
  {
   "cell_type": "code",
   "execution_count": 47,
   "metadata": {},
   "outputs": [
    {
     "data": {
      "text/plain": [
       "<4725x3891 sparse matrix of type '<class 'numpy.int64'>'\n",
       "\twith 49429 stored elements in Compressed Sparse Row format>"
      ]
     },
     "execution_count": 47,
     "metadata": {},
     "output_type": "execute_result"
    }
   ],
   "source": [
    "bag_of_words1"
   ]
  },
  {
   "cell_type": "code",
   "execution_count": 48,
   "metadata": {},
   "outputs": [
    {
     "data": {
      "text/plain": [
       "[(0,\n",
       "  '0.033*\"experience not\" + 0.023*\"come michigan\" + 0.016*\"food pantry\" + 0.012*\"concert\" + 0.012*\"class take\" + 0.011*\"cleaning service\" + 0.011*\"instagram\" + 0.011*\"determine\" + 0.010*\"invite people\" + 0.010*\"event not\"'),\n",
       " (1,\n",
       "  '0.031*\"experience not\" + 0.011*\"food pantry\" + 0.011*\"instagram\" + 0.009*\"bad weather\" + 0.008*\"complain\" + 0.007*\"invite people\" + 0.007*\"drill\" + 0.007*\"lbs\" + 0.007*\"highschool\" + 0.006*\"determine\"'),\n",
       " (2,\n",
       "  '0.016*\"experience not\" + 0.011*\"lecture\" + 0.010*\"hope help\" + 0.009*\"fulfil\" + 0.008*\"awesome thank\" + 0.008*\"curious\" + 0.007*\"bad weather\" + 0.006*\"cleaning service\" + 0.006*\"humidity\" + 0.006*\"enforcement\"'),\n",
       " (3,\n",
       "  '0.034*\"incoming\" + 0.011*\"lanyard\" + 0.010*\"bus go\" + 0.008*\"cringe\" + 0.008*\"know look\" + 0.007*\"dump\" + 0.007*\"good way\" + 0.007*\"firm\" + 0.006*\"get credit\" + 0.006*\"controversial\"'),\n",
       " (4,\n",
       "  '0.023*\"experience not\" + 0.015*\"conflict world\" + 0.012*\"food pantry\" + 0.011*\"know look\" + 0.011*\"influence\" + 0.011*\"dive\" + 0.009*\"hope help\" + 0.007*\"lecture\" + 0.007*\"know people\" + 0.007*\"assistance\"'),\n",
       " (5,\n",
       "  '0.014*\"experience not\" + 0.012*\"good stuff\" + 0.010*\"drill\" + 0.009*\"daniel\" + 0.009*\"gaza west\" + 0.007*\"complain\" + 0.006*\"dinner\" + 0.006*\"apparently\" + 0.006*\"instagram\" + 0.006*\"jk\"'),\n",
       " (6,\n",
       "  '0.020*\"dive\" + 0.020*\"experience not\" + 0.013*\"hope help\" + 0.009*\"concert\" + 0.009*\"jacket\" + 0.009*\"bs\" + 0.008*\"food pantry\" + 0.007*\"know campus\" + 0.007*\"determine\" + 0.006*\"instagram\"'),\n",
       " (7,\n",
       "  '0.023*\"know look\" + 0.011*\"know year\" + 0.009*\"attend\" + 0.009*\"experience not\" + 0.009*\"counter\" + 0.008*\"consumer af\" + 0.008*\"dive\" + 0.007*\"lecture\" + 0.007*\"inaccurate\" + 0.007*\"influence\"'),\n",
       " (8,\n",
       "  '0.014*\"dive\" + 0.012*\"complain\" + 0.012*\"ask get\" + 0.011*\"assistance\" + 0.011*\"bs\" + 0.009*\"experience not\" + 0.008*\"affect\" + 0.008*\"concert\" + 0.008*\"holiday\" + 0.008*\"hope help\"'),\n",
       " (9,\n",
       "  '0.014*\"experience not\" + 0.012*\"lecture\" + 0.009*\"hope help\" + 0.008*\"come michigan\" + 0.008*\"festifall not\" + 0.008*\"food pantry\" + 0.006*\"dorm think\" + 0.006*\"event not\" + 0.006*\"conflict world\" + 0.006*\"instagram\"')]"
      ]
     },
     "execution_count": 48,
     "metadata": {},
     "output_type": "execute_result"
    }
   ],
   "source": [
    "corpus = Sparse2Corpus(bag_of_words1, documents_columns=False)\n",
    "id2word = dict((v, k) for k, v in vectorizer.vocabulary_.items())\n",
    "lda_model = LdaModel(corpus=corpus, id2word=id2word, num_topics=10)\n",
    "lda_model.print_topics()"
   ]
  },
  {
   "cell_type": "markdown",
   "metadata": {},
   "source": [
    "#### Analysis: ####\n",
    "0. mostly scattered and the words are about general experences, so they are relatively representative.\n",
    "1. not as scattered and more specific into student life so they are representative\n",
    "2. mostly representative but words like bad weather might not affect that much \n",
    "3. informal more about student life as cringe appears so relevant to new students\n",
    "4. not as representative the words are less related to influence and conflict world\n",
    "5. less representative includes political views\n",
    "6. representative because the words look relevant to student lives\n",
    "7. more logistic and academic so mostly representative.\n",
    "8. complains were mentioned but the \n",
    "9. it mentions about lectures and academic but the score for each one is less dependent "
   ]
  },
  {
   "cell_type": "markdown",
   "metadata": {},
   "source": []
  }
 ],
 "metadata": {
  "kernelspec": {
   "display_name": "is310",
   "language": "python",
   "name": "python3"
  },
  "language_info": {
   "codemirror_mode": {
    "name": "ipython",
    "version": 3
   },
   "file_extension": ".py",
   "mimetype": "text/x-python",
   "name": "python",
   "nbconvert_exporter": "python",
   "pygments_lexer": "ipython3",
   "version": "3.9.19"
  }
 },
 "nbformat": 4,
 "nbformat_minor": 2
}
